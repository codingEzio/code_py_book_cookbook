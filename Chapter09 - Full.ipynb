{
 "cells": [
  {
   "cell_type": "markdown",
   "metadata": {},
   "source": [
    "<hr>Metaprogramming<hr>"
   ]
  },
  {
   "cell_type": "markdown",
   "metadata": {},
   "source": [
    "0x01"
   ]
  },
  {
   "cell_type": "code",
   "execution_count": 1,
   "metadata": {},
   "outputs": [],
   "source": [
    "from time import time \n",
    "from functools import wraps\n",
    "\n",
    "def timethis(func):\n",
    "    ''' a decorator that reports the exec time '''\n",
    "    \n",
    "    @wraps(func)                           # crucial!! (keeping meta-info of the original)\n",
    "    def wrapper(*args, **kwargs):          # whatever (funcname or its args)\n",
    "        \n",
    "        start  = time()                    # your own  \n",
    "        result = func(*args, **kwargs)     # whatever (revoking original func)\n",
    "        end    = time()                    # your own   \n",
    "        \n",
    "        print(func.__name__, end - start)  # your own\n",
    "        \n",
    "        return result\n",
    "    \n",
    "    return wrapper"
   ]
  },
  {
   "cell_type": "code",
   "execution_count": 2,
   "metadata": {},
   "outputs": [
    {
     "name": "stdout",
     "output_type": "stream",
     "text": [
      "countdown 0.0007650852203369141\n",
      "countdown 0.06827902793884277\n"
     ]
    }
   ],
   "source": [
    "@timethis \n",
    "def countdown(n: int):\n",
    "    ''' only for counting :) '''\n",
    "    \n",
    "    while n > 0:\n",
    "        n -= 1 \n",
    "        \n",
    "        \n",
    "countdown(10000)\n",
    "countdown(1000000)"
   ]
  },
  {
   "cell_type": "markdown",
   "metadata": {},
   "source": [
    "0x02"
   ]
  },
  {
   "cell_type": "code",
   "execution_count": 3,
   "metadata": {},
   "outputs": [
    {
     "data": {
      "text/plain": [
       "'countdown'"
      ]
     },
     "execution_count": 3,
     "metadata": {},
     "output_type": "execute_result"
    },
    {
     "data": {
      "text/plain": [
       "' only for counting :) '"
      ]
     },
     "execution_count": 3,
     "metadata": {},
     "output_type": "execute_result"
    },
    {
     "data": {
      "text/plain": [
       "{'n': int}"
      ]
     },
     "execution_count": 3,
     "metadata": {},
     "output_type": "execute_result"
    }
   ],
   "source": [
    "# using '@wraps(func)' can retain the meta-info (countdown)\n",
    "\n",
    "countdown.__name__\n",
    "countdown.__doc__\n",
    "countdown.__annotations__\n",
    "\n",
    "countdown.__wrapped__(1000)  # revoking the func was 'decorated' directly\n",
    "\n",
    "\n",
    "# if not using '@wraps'\n",
    "\n",
    "its_name = 'wrapper'  # 'wrapper' func in timethis\n",
    "its_doc  = None       # nothin' \n",
    "its_anno = {}         # no anno in 'wrapper' func!  "
   ]
  },
  {
   "cell_type": "markdown",
   "metadata": {},
   "source": [
    "0x03"
   ]
  },
  {
   "cell_type": "code",
   "execution_count": 4,
   "metadata": {},
   "outputs": [],
   "source": [
    "@timethis\n",
    "def ct(n):  # ct() => timethis(ct)\n",
    "    pass\n",
    "\n",
    "\n",
    "def ct(n):\n",
    "    pass\n",
    "\n",
    "ct = timethis(ct)"
   ]
  },
  {
   "cell_type": "code",
   "execution_count": 5,
   "metadata": {},
   "outputs": [],
   "source": [
    "class A:\n",
    "    @classmethod    # same thing like '@property' etc.\n",
    "    def hello(cls):\n",
    "        pass\n",
    "    \n",
    "class B:\n",
    "    def hello(cls):\n",
    "        pass\n",
    "    hello = classmethod(hello)"
   ]
  },
  {
   "cell_type": "markdown",
   "metadata": {},
   "source": [
    "0x04"
   ]
  },
  {
   "cell_type": "code",
   "execution_count": 6,
   "metadata": {},
   "outputs": [
    {
     "name": "stdout",
     "output_type": "stream",
     "text": [
      "add 9.5367431640625e-07\n"
     ]
    },
    {
     "data": {
      "text/plain": [
       "12"
      ]
     },
     "execution_count": 6,
     "metadata": {},
     "output_type": "execute_result"
    },
    {
     "data": {
      "text/plain": [
       "12"
      ]
     },
     "execution_count": 6,
     "metadata": {},
     "output_type": "execute_result"
    }
   ],
   "source": [
    "@timethis\n",
    "def add(x, y):\n",
    "    return x * y\n",
    "\n",
    "add            (3, 4)  # wrapped\n",
    "add.__wrapped__(3, 4)  # upwrapped (original)"
   ]
  },
  {
   "cell_type": "markdown",
   "metadata": {},
   "source": [
    "0x05"
   ]
  },
  {
   "cell_type": "code",
   "execution_count": 2,
   "metadata": {},
   "outputs": [],
   "source": [
    "from functools import wraps \n",
    "\n",
    "def deco_one(func):\n",
    "    @wraps(func)\n",
    "    def wrapper(*args, **kwargs):\n",
    "        print('Deco001')\n",
    "        return func(*args, **kwargs)\n",
    "    return wrapper \n",
    "\n",
    "def deco_two(func):\n",
    "    @wraps(func)\n",
    "    def wrapper(*args, **kwargs):\n",
    "        print('Deco002')\n",
    "        return func(*args, **kwargs)\n",
    "    return wrapper\n",
    "\n",
    "@deco_one\n",
    "@deco_two\n",
    "def add(x, y):\n",
    "    return x + y "
   ]
  },
  {
   "cell_type": "code",
   "execution_count": 5,
   "metadata": {},
   "outputs": [
    {
     "name": "stdout",
     "output_type": "stream",
     "text": [
      "Deco001\n",
      "Deco002\n"
     ]
    },
    {
     "data": {
      "text/plain": [
       "5"
      ]
     },
     "execution_count": 5,
     "metadata": {},
     "output_type": "execute_result"
    },
    {
     "name": "stdout",
     "output_type": "stream",
     "text": [
      "Deco002\n"
     ]
    },
    {
     "data": {
      "text/plain": [
       "5"
      ]
     },
     "execution_count": 5,
     "metadata": {},
     "output_type": "execute_result"
    }
   ],
   "source": [
    "# well, normal as-fuck\n",
    "add(2, 3)\n",
    "\n",
    "# the attr is sometimes unreliable!\n",
    "add.__wrapped__(2, 3)"
   ]
  },
  {
   "cell_type": "markdown",
   "metadata": {},
   "source": [
    "0x06"
   ]
  },
  {
   "cell_type": "code",
   "execution_count": null,
   "metadata": {},
   "outputs": [],
   "source": []
  }
 ],
 "metadata": {
  "kernelspec": {
   "display_name": "Python 3",
   "language": "python",
   "name": "python3"
  },
  "language_info": {
   "codemirror_mode": {
    "name": "ipython",
    "version": 3
   },
   "file_extension": ".py",
   "mimetype": "text/x-python",
   "name": "python",
   "nbconvert_exporter": "python",
   "pygments_lexer": "ipython3",
   "version": "3.6.5"
  }
 },
 "nbformat": 4,
 "nbformat_minor": 2
}
