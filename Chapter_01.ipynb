{
 "cells": [
  {
   "cell_type": "markdown",
   "metadata": {},
   "source": [
    "> 鏈接在此: [link](https://python-cookbook-3rd-edition.readthedocs.io/zh_CN/latest/c01/p01_unpack_sequence_into_separate_variables.html)"
   ]
  },
  {
   "cell_type": "markdown",
   "metadata": {},
   "source": [
    "#### unpack"
   ]
  },
  {
   "cell_type": "code",
   "execution_count": 1,
   "metadata": {},
   "outputs": [
    {
     "data": {
      "text/plain": [
       "(1, 2)"
      ]
     },
     "execution_count": 1,
     "metadata": {},
     "output_type": "execute_result"
    },
    {
     "data": {
      "text/plain": [
       "('X', 'Y', 'Z')"
      ]
     },
     "execution_count": 1,
     "metadata": {},
     "output_type": "execute_result"
    },
    {
     "data": {
      "text/plain": [
       "('date', (2018, 7), 'Wed.')"
      ]
     },
     "execution_count": 1,
     "metadata": {},
     "output_type": "execute_result"
    },
    {
     "data": {
      "text/plain": [
       "('Alex', 20)"
      ]
     },
     "execution_count": 1,
     "metadata": {},
     "output_type": "execute_result"
    },
    {
     "data": {
      "text/plain": [
       "('Alice', 19)"
      ]
     },
     "execution_count": 1,
     "metadata": {},
     "output_type": "execute_result"
    }
   ],
   "source": [
    "# most common\n",
    "x,y = 1,2 \n",
    "x,y \n",
    "\n",
    "# split string \n",
    "x,y,z = 'XYZ'\n",
    "x,y,z\n",
    "\n",
    "# unpack -> unpack\n",
    "info, (y,m), week = ['date',(2018,7),'Wed.']\n",
    "info, (y,m), week\n",
    "\n",
    "# skip\n",
    "_, name, age, _ = ['shit','Alex',20,'shiiit']\n",
    "name,age\n",
    "\n",
    "# skip (batch)\n",
    "_, name, *_, age = ['shit','Alice','what','the',19]\n",
    "name,age"
   ]
  },
  {
   "cell_type": "code",
   "execution_count": 2,
   "metadata": {},
   "outputs": [],
   "source": [
    "# [1,2,3]\n",
    "first, *middle, last = ['Start',1,2,3,'End']\n",
    "\n",
    "# [100,120,80]\n",
    "name, gender, *scores = ['Alex','male',100,120,80]\n",
    "\n",
    "# 100.0\n",
    "def avg_the_scores(info=['alex',100,110,90]):\n",
    "    name, *scores = info\n",
    "    return sum(scores) / len(scores)"
   ]
  },
  {
   "cell_type": "code",
   "execution_count": 3,
   "metadata": {},
   "outputs": [
    {
     "data": {
      "text/plain": [
       "('root', '/var/root', '/bin/sh')"
      ]
     },
     "execution_count": 3,
     "metadata": {},
     "output_type": "execute_result"
    }
   ],
   "source": [
    "line = 'root:*:0:0:System Administrator:/var/root:/bin/sh'\n",
    "\n",
    "# split -> filter -> done!\n",
    "uname, *other, home, shell = line.split(':')\n",
    "uname, home, shell"
   ]
  },
  {
   "cell_type": "markdown",
   "metadata": {},
   "source": [
    "#### deque - fast ins/del"
   ]
  },
  {
   "cell_type": "code",
   "execution_count": 4,
   "metadata": {},
   "outputs": [],
   "source": [
    "from collections import deque"
   ]
  },
  {
   "cell_type": "code",
   "execution_count": 5,
   "metadata": {},
   "outputs": [
    {
     "data": {
      "text/plain": [
       "' fixed size '"
      ]
     },
     "execution_count": 5,
     "metadata": {},
     "output_type": "execute_result"
    },
    {
     "data": {
      "text/plain": [
       "deque([1, 2, 3])"
      ]
     },
     "execution_count": 5,
     "metadata": {},
     "output_type": "execute_result"
    },
    {
     "data": {
      "text/plain": [
       "deque([2, 3, 4])"
      ]
     },
     "execution_count": 5,
     "metadata": {},
     "output_type": "execute_result"
    },
    {
     "data": {
      "text/plain": [
       "deque([4, 5, 6])"
      ]
     },
     "execution_count": 5,
     "metadata": {},
     "output_type": "execute_result"
    }
   ],
   "source": [
    "''' fixed size '''\n",
    "\n",
    "q = deque(maxlen=3)\n",
    "\n",
    "q.append(1)     \n",
    "q.extend([2,3]) \n",
    "\n",
    "# normal \n",
    "q\n",
    "\n",
    "# the first N items'll be removed \n",
    "q.append(4)\n",
    "q\n",
    "\n",
    "# all gone, [2,3]\n",
    "q.extend([5,6])\n",
    "q"
   ]
  },
  {
   "cell_type": "code",
   "execution_count": 6,
   "metadata": {},
   "outputs": [
    {
     "data": {
      "text/plain": [
       "' deque VS list '"
      ]
     },
     "execution_count": 6,
     "metadata": {},
     "output_type": "execute_result"
    },
    {
     "data": {
      "text/plain": [
       "deque([0, 1, 2, 3, 4])"
      ]
     },
     "execution_count": 6,
     "metadata": {},
     "output_type": "execute_result"
    },
    {
     "data": {
      "text/plain": [
       "0"
      ]
     },
     "execution_count": 6,
     "metadata": {},
     "output_type": "execute_result"
    },
    {
     "data": {
      "text/plain": [
       "4"
      ]
     },
     "execution_count": 6,
     "metadata": {},
     "output_type": "execute_result"
    }
   ],
   "source": [
    "''' deque VS list '''\n",
    "\n",
    "# append/delete in both sides:\n",
    "#   list  ->  O(N)\n",
    "#   deque ->  O(1)\n",
    "\n",
    "dq = deque()\n",
    "\n",
    "dq.extend([1,2,3])\n",
    "\n",
    "dq.appendleft(0) # left   ( extend is also available )\n",
    "dq.append(4)     # right   \n",
    "\n",
    "dq\n",
    "\n",
    "dq.popleft()     # left \n",
    "dq.pop()         # right "
   ]
  },
  {
   "cell_type": "markdown",
   "metadata": {},
   "source": [
    "#### heapq - largest/smallest"
   ]
  },
  {
   "cell_type": "code",
   "execution_count": 7,
   "metadata": {},
   "outputs": [],
   "source": [
    "import heapq "
   ]
  },
  {
   "cell_type": "code",
   "execution_count": 8,
   "metadata": {},
   "outputs": [
    {
     "data": {
      "text/plain": [
       "[39, 21, 12]"
      ]
     },
     "execution_count": 8,
     "metadata": {},
     "output_type": "execute_result"
    },
    {
     "data": {
      "text/plain": [
       "[-12, 0, 1]"
      ]
     },
     "execution_count": 8,
     "metadata": {},
     "output_type": "execute_result"
    },
    {
     "data": {
      "text/plain": [
       "[{'name': 'ACME', 'shares': 75, 'price': 115.65},\n",
       " {'name': 'IBM', 'shares': 100, 'price': 91.1}]"
      ]
     },
     "execution_count": 8,
     "metadata": {},
     "output_type": "execute_result"
    }
   ],
   "source": [
    "nums = [1,8,12,39,12,0,-12,21]\n",
    "\n",
    "# basic \n",
    "heapq.nlargest(3,nums)\n",
    "heapq.nsmallest(3,nums)\n",
    "\n",
    "# btw, if u want the ONLY largest/smallest \n",
    "# use max()/min() instead !\n",
    "\n",
    "# specifying key \n",
    "high_dimen = [\n",
    "    {'name': 'YHOO', 'shares': 45, 'price': 16.35},\n",
    "    {'name': 'FB', 'shares': 200, 'price': 21.09},\n",
    "    {'name': 'HPQ', 'shares': 35, 'price': 31.75},\n",
    "    {'name': 'IBM', 'shares': 100, 'price': 91.1},\n",
    "    {'name': 'ACME', 'shares': 75, 'price': 115.65},\n",
    "]\n",
    "\n",
    "heapq.nlargest(\n",
    "    2,                         \n",
    "    high_dimen,                # the container \n",
    "    key=lambda x: x['price']   # list[elem-idx]: list[elem-idx]['key']\n",
    ")"
   ]
  },
  {
   "cell_type": "code",
   "execution_count": 9,
   "metadata": {},
   "outputs": [
    {
     "data": {
      "text/plain": [
       "[-4, 2, 18, 7, 8, 23, 23, 42, 37]"
      ]
     },
     "execution_count": 9,
     "metadata": {},
     "output_type": "execute_result"
    },
    {
     "data": {
      "text/plain": [
       "-4"
      ]
     },
     "execution_count": 9,
     "metadata": {},
     "output_type": "execute_result"
    },
    {
     "data": {
      "text/plain": [
       "[2, 7, 18, 37, 8, 23, 23, 42]"
      ]
     },
     "execution_count": 9,
     "metadata": {},
     "output_type": "execute_result"
    },
    {
     "name": "stdout",
     "output_type": "stream",
     "text": [
      "smallest: 2 ... for now.\n",
      "smallest: 7 ... for now.\n",
      "smallest: 8 ... for now.\n"
     ]
    }
   ],
   "source": [
    "nums = [ 8, 2, 23, 7, -4, 18, 23, 42, 37]\n",
    "\n",
    "# transform into a 'heap' (堆)\n",
    "heapq.heapify(nums)\n",
    "nums\n",
    "\n",
    "# heap[0] is always the smallest item ('堆'的特性)\n",
    "# 其時間複雜度僅為 O(log N) \n",
    "heapq.heappop(nums)\n",
    "nums \n",
    "\n",
    "for i in range(3):\n",
    "    \n",
    "    # get the smallest N element \n",
    "    a = heapq.heappop(nums)\n",
    "    \n",
    "    print('smallest:',a,'... for now.')"
   ]
  },
  {
   "cell_type": "code",
   "execution_count": 10,
   "metadata": {},
   "outputs": [
    {
     "data": {
      "text/plain": [
       "(42, -4)"
      ]
     },
     "execution_count": 10,
     "metadata": {},
     "output_type": "execute_result"
    },
    {
     "data": {
      "text/plain": [
       "([-4, 2, 7], [23, 37, 42])"
      ]
     },
     "execution_count": 10,
     "metadata": {},
     "output_type": "execute_result"
    },
    {
     "data": {
      "text/plain": [
       "('think again', 'and use heapq!')"
      ]
     },
     "execution_count": 10,
     "metadata": {},
     "output_type": "execute_result"
    }
   ],
   "source": [
    "# USE IT RIGHT \n",
    "\n",
    "nums = [ 8, 2, 23, 7, -4, 18, 23, 42, 37]\n",
    "\n",
    "if 'you-want-only-one':\n",
    "    max(nums), min(nums)\n",
    "\n",
    "if 'the-items-you-want-is-nearly-the-total':\n",
    "    sorted(nums)[:3], sorted(nums)[-3:]\n",
    "    \n",
    "if 'your-need-is-not-one-of-them':\n",
    "    'think again', 'and use heapq!'"
   ]
  },
  {
   "cell_type": "markdown",
   "metadata": {},
   "source": [
    "#### heapq - priority"
   ]
  },
  {
   "cell_type": "code",
   "execution_count": 11,
   "metadata": {},
   "outputs": [],
   "source": [
    "import heapq \n",
    "\n",
    "class PriorityQueue:\n",
    "    def __init__(self):\n",
    "        self._queue = []\n",
    "        self._index = 0\n",
    "        \n",
    "    def push(self, item, priority):\n",
    "        heapq.heappush(                     # add element\n",
    "            self._queue,                    # specifying the object (list/heaq)\n",
    "            (-priority, self._index, item)  # [], (-5 , 0, Item('commit'))\n",
    "        )\n",
    "        self._index += 1 \n",
    "        \n",
    "    def pop(self):\n",
    "        return heapq.heappop(self._queue)[-1]\n",
    "    \n",
    "class Item:\n",
    "    def __init__(self,name):\n",
    "        self.name = name \n",
    "    def __repr__(self):\n",
    "        return 'Item({!r})'.format(self.name)"
   ]
  },
  {
   "cell_type": "code",
   "execution_count": 12,
   "metadata": {},
   "outputs": [
    {
     "data": {
      "text/plain": [
       "Item('pull-request')"
      ]
     },
     "execution_count": 12,
     "metadata": {},
     "output_type": "execute_result"
    },
    {
     "data": {
      "text/plain": [
       "Item('commit')"
      ]
     },
     "execution_count": 12,
     "metadata": {},
     "output_type": "execute_result"
    },
    {
     "data": {
      "text/plain": [
       "Item('fork')"
      ]
     },
     "execution_count": 12,
     "metadata": {},
     "output_type": "execute_result"
    }
   ],
   "source": [
    "# push/pop\n",
    "\n",
    "q = PriorityQueue()\n",
    "\n",
    "q.push(Item('fork'),1)\n",
    "q.push(Item('star'),1)\n",
    "\n",
    "q.push(Item('commit'),4)\n",
    "q.push(Item('pull-request'),5)\n",
    "\n",
    "# always pop the highest priority element \n",
    "q.pop()\n",
    "q.pop()\n",
    "\n",
    "# if duplicates, pop by creating order (early first)\n",
    "q.pop()"
   ]
  },
  {
   "cell_type": "code",
   "execution_count": 20,
   "metadata": {},
   "outputs": [
    {
     "data": {
      "text/plain": [
       "True"
      ]
     },
     "execution_count": 20,
     "metadata": {},
     "output_type": "execute_result"
    },
    {
     "data": {
      "text/plain": [
       "True"
      ]
     },
     "execution_count": 20,
     "metadata": {},
     "output_type": "execute_result"
    }
   ],
   "source": [
    "# cmp\n",
    "\n",
    "try:\n",
    "    \n",
    "    # missing info\n",
    "    #   so it can't cmp with each other\n",
    "    a = Item('foo')\n",
    "    b = Item('bar')\n",
    "    c = None             # placeholder\n",
    "    \n",
    "    # bad guy\n",
    "    a < b \n",
    "    \n",
    "except Exception as err:\n",
    "    \n",
    "    # same priority is fine \n",
    "    a = (1,Item('foo'))\n",
    "    b = (5,Item('bar'))  \n",
    "    c = None             # placeholder\n",
    "    \n",
    "    # if they both have the same pri,\n",
    "    #   there's still an error will be raised\n",
    "    pass\n",
    "\n",
    "finally:\n",
    "    \n",
    "    # (pri, idx, item)\n",
    "    a = (1,0,Item('foo'))\n",
    "    b = (5,1,Item('fuc'))\n",
    "    c = (1,2,Item('bar'))\n",
    "    \n",
    "a < b\n",
    "a < c "
   ]
  },
  {
   "cell_type": "markdown",
   "metadata": {},
   "source": [
    "#### defaultdict - mapping multiple values"
   ]
  },
  {
   "cell_type": "code",
   "execution_count": 48,
   "metadata": {},
   "outputs": [],
   "source": [
    "# quick tips:\n",
    "#   list  --  ordering reserved \n",
    "#   set   --  no duplicates & not ordered "
   ]
  },
  {
   "cell_type": "code",
   "execution_count": 51,
   "metadata": {},
   "outputs": [],
   "source": [
    "from collections import defaultdict \n",
    "\n",
    "tips = ''' \n",
    "    Initializing as XXX, u're able use the methods of XXX.\n",
    "\n",
    "    That is:\n",
    "        list  -- append, extend etc. (IT IS list!!)\n",
    "        set   -- add, update    etc.\n",
    "        \n",
    "    The tips are applied to all the methods down below.\n",
    "'''\n",
    "\n",
    "\n",
    "def dic_mulval_normal():\n",
    "    \n",
    "    d1 = {\n",
    "        'a': [1,2,3],\n",
    "        'b': [4,5]\n",
    "    }\n",
    "\n",
    "    d1['a'].append(4)\n",
    "    d1['a'].extend([5,6])\n",
    "\n",
    "\n",
    "def dic_mulval_setdefault():\n",
    "\n",
    "    d2 = {}\n",
    "    \n",
    "    d2.setdefault('a',[]).append(1)\n",
    "    d2.setdefault('a',[]).extend([2,3])\n",
    "    \n",
    "\n",
    "def dic_mulval_collc_defaultdict():\n",
    "    \n",
    "    d = defaultdict(list)\n",
    "\n",
    "    # init them automatically (value: [])\n",
    "    d['a'], d['what']\n",
    "\n",
    "    d['a'].append(1)\n",
    "    d['a'].extend([2,3])"
   ]
  },
  {
   "cell_type": "code",
   "execution_count": 65,
   "metadata": {},
   "outputs": [
    {
     "data": {
      "text/plain": [
       "defaultdict(list, {'a': [1, 2], 'b': [3, 4]})"
      ]
     },
     "execution_count": 65,
     "metadata": {},
     "output_type": "execute_result"
    }
   ],
   "source": [
    "# add existing vals to dict \n",
    "\n",
    "existing_vals  = { 'a' : [1, 2], 'b' : [3, 4] }.items()  \n",
    "dict_to_be_add = defaultdict(list)\n",
    "\n",
    "for key,value in existing_vals:\n",
    "    dict_to_be_add[key].extend(value)\n",
    "    \n",
    "dict_to_be_add"
   ]
  },
  {
   "cell_type": "markdown",
   "metadata": {},
   "source": [
    "#### OrderedDict - dict ordering"
   ]
  },
  {
   "cell_type": "code",
   "execution_count": 82,
   "metadata": {},
   "outputs": [
    {
     "name": "stdout",
     "output_type": "stream",
     "text": [
      "foo : It is\n",
      "bar : a dict\n",
      "oop : after all\n"
     ]
    },
    {
     "data": {
      "text/plain": [
       "'{\"foo\": \"It is\", \"bar\": \"a dict\", \"oop\": \"after all\"}'"
      ]
     },
     "execution_count": 82,
     "metadata": {},
     "output_type": "execute_result"
    }
   ],
   "source": [
    "from collections import OrderedDict\n",
    "import json \n",
    "\n",
    "d = OrderedDict()\n",
    "\n",
    "d['foo'] = \"It is\"\n",
    "d['bar'] = \"a dict\"\n",
    "d['oop'] = \"after all\"\n",
    "\n",
    "# Loop it as a normal dict (IT IS)\n",
    "for k in d:\n",
    "    print(k, ':', d[k])\n",
    "    \n",
    "# JSON will be nice :)\n",
    "json.dumps(d)\n",
    "\n",
    "# btw\n",
    "tips = \"\"\"\n",
    "    The size of 'OrderedDict' is twice of the normal dict!\n",
    "    In human words, \n",
    "        it'll consume much MORE memory than normal dict.\n",
    "\"\"\""
   ]
  },
  {
   "cell_type": "markdown",
   "metadata": {},
   "source": [
    "#### dict - k,v / max,min"
   ]
  },
  {
   "cell_type": "code",
   "execution_count": 89,
   "metadata": {},
   "outputs": [],
   "source": [
    "prices = {\n",
    "    'ACME': 45.23,\n",
    "    'AAPL': 612.78,\n",
    "    'IBM': 205.55,\n",
    "    'HPQ': 37.20,\n",
    "    'FB': 10.75\n",
    "}"
   ]
  },
  {
   "cell_type": "code",
   "execution_count": 103,
   "metadata": {},
   "outputs": [
    {
     "data": {
      "text/plain": [
       "'AAPL'"
      ]
     },
     "execution_count": 103,
     "metadata": {},
     "output_type": "execute_result"
    },
    {
     "data": {
      "text/plain": [
       "10.75"
      ]
     },
     "execution_count": 103,
     "metadata": {},
     "output_type": "execute_result"
    },
    {
     "data": {
      "text/plain": [
       "'FB'"
      ]
     },
     "execution_count": 103,
     "metadata": {},
     "output_type": "execute_result"
    },
    {
     "data": {
      "text/plain": [
       "10.75"
      ]
     },
     "execution_count": 103,
     "metadata": {},
     "output_type": "execute_result"
    }
   ],
   "source": [
    "# 'evolution' (sort of XD)\n",
    "\n",
    "# key only\n",
    "min(prices)\n",
    "\n",
    "# value only  (what, what the fuck XD)\n",
    "min(prices.values())\n",
    "\n",
    "# the corresponding key, and val (hmm)\n",
    "min(\n",
    "    prices, key=lambda k: prices[k]\n",
    ")\n",
    "\n",
    "prices[\n",
    "    min(\n",
    "        prices, key=lambda k: prices[k]\n",
    "    )\n",
    "]"
   ]
  },
  {
   "cell_type": "code",
   "execution_count": 108,
   "metadata": {},
   "outputs": [
    {
     "data": {
      "text/plain": [
       "(10.75, 'FB')"
      ]
     },
     "execution_count": 108,
     "metadata": {},
     "output_type": "execute_result"
    },
    {
     "data": {
      "text/plain": [
       "(10.75, 'FB')"
      ]
     },
     "execution_count": 108,
     "metadata": {},
     "output_type": "execute_result"
    },
    {
     "data": {
      "text/plain": [
       "(200, 'AAA')"
      ]
     },
     "execution_count": 108,
     "metadata": {},
     "output_type": "execute_result"
    }
   ],
   "source": [
    "# 更佳的一種求極值的方式 (zip)\n",
    "\n",
    "min_price_zipped = min(\n",
    "    zip(prices.values(), prices.keys())\n",
    ")\n",
    "\n",
    "min_price_sorted = sorted(\n",
    "    zip(prices.values(), prices.keys())\n",
    ")\n",
    "\n",
    "# min(Them) is fine \n",
    "min_price_zipped\n",
    "\n",
    "# or you could sort it and pick the first (min)\n",
    "min_price_sorted[0]\n",
    "\n",
    "\n",
    "# ----- BUT ----- \n",
    "\n",
    "same_val_wtf = {'AAA':200,'GGG':200}\n",
    "\n",
    "min(\n",
    "    zip(\n",
    "        same_val_wtf.values(),  # cmp values first, but \"not\" in this case \n",
    "        same_val_wtf.keys(),    # same val? continue to cmp key, key does the sort!\n",
    "    )\n",
    ")"
   ]
  },
  {
   "cell_type": "markdown",
   "metadata": {},
   "source": [
    "#### dict - find the similarities"
   ]
  },
  {
   "cell_type": "code",
   "execution_count": 113,
   "metadata": {},
   "outputs": [
    {
     "data": {
      "text/plain": [
       "{'x', 'z'}"
      ]
     },
     "execution_count": 113,
     "metadata": {},
     "output_type": "execute_result"
    },
    {
     "data": {
      "text/plain": [
       "{'w'}"
      ]
     },
     "execution_count": 113,
     "metadata": {},
     "output_type": "execute_result"
    },
    {
     "data": {
      "text/plain": [
       "{('z', 3)}"
      ]
     },
     "execution_count": 113,
     "metadata": {},
     "output_type": "execute_result"
    }
   ],
   "source": [
    "a = {\n",
    "    'w': 1,\n",
    "    'x': 2,\n",
    "    'z': 3\n",
    "}\n",
    "\n",
    "b = {\n",
    "    'x': 10,\n",
    "    'y': 20,\n",
    "    'z': 3\n",
    "}\n",
    "\n",
    "\n",
    "# in common \n",
    "a.keys() & b.keys()\n",
    "\n",
    "# a has\n",
    "# b doesn't \n",
    "a.keys() - b.keys()\n",
    "\n",
    "# k,v all the same \n",
    "a.items() & b.items()"
   ]
  },
  {
   "cell_type": "code",
   "execution_count": 122,
   "metadata": {},
   "outputs": [
    {
     "data": {
      "text/plain": [
       "{'w': 1, 'x': 2}"
      ]
     },
     "execution_count": 122,
     "metadata": {},
     "output_type": "execute_result"
    }
   ],
   "source": [
    "# remove specific keys - dict comprehension \n",
    "\n",
    "{ \n",
    "    # cleaner, and readability\n",
    "    k:a[k] for k in a.keys() - {'z'} \n",
    "}"
   ]
  },
  {
   "cell_type": "markdown",
   "metadata": {},
   "source": [
    "#### del duplicates while keeping order"
   ]
  },
  {
   "cell_type": "markdown",
   "metadata": {},
   "source": [
    "#### [link](https://python-cookbook-3rd-edition.readthedocs.io/zh_CN/latest/c01/p10_remove_duplicates_from_seq_order.html)"
   ]
  }
 ],
 "metadata": {
  "kernelspec": {
   "display_name": "Python 3",
   "language": "python",
   "name": "python3"
  },
  "language_info": {
   "codemirror_mode": {
    "name": "ipython",
    "version": 3
   },
   "file_extension": ".py",
   "mimetype": "text/x-python",
   "name": "python",
   "nbconvert_exporter": "python",
   "pygments_lexer": "ipython3",
   "version": "3.6.5"
  }
 },
 "nbformat": 4,
 "nbformat_minor": 2
}
