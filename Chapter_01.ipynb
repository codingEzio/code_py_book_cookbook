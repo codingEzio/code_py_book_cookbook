{
 "cells": [
  {
   "cell_type": "markdown",
   "metadata": {},
   "source": [
    "> 鏈接在此: [link](https://python-cookbook-3rd-edition.readthedocs.io/zh_CN/latest/c01/p01_unpack_sequence_into_separate_variables.html)"
   ]
  },
  {
   "cell_type": "markdown",
   "metadata": {},
   "source": [
    "#### unpack"
   ]
  },
  {
   "cell_type": "code",
   "execution_count": 172,
   "metadata": {},
   "outputs": [
    {
     "data": {
      "text/plain": [
       "(1, 2)"
      ]
     },
     "execution_count": 172,
     "metadata": {},
     "output_type": "execute_result"
    },
    {
     "data": {
      "text/plain": [
       "('X', 'Y', 'Z')"
      ]
     },
     "execution_count": 172,
     "metadata": {},
     "output_type": "execute_result"
    },
    {
     "data": {
      "text/plain": [
       "('date', (2018, 7), 'Wed.')"
      ]
     },
     "execution_count": 172,
     "metadata": {},
     "output_type": "execute_result"
    },
    {
     "data": {
      "text/plain": [
       "('Alex', 20)"
      ]
     },
     "execution_count": 172,
     "metadata": {},
     "output_type": "execute_result"
    },
    {
     "data": {
      "text/plain": [
       "('Alice', 19)"
      ]
     },
     "execution_count": 172,
     "metadata": {},
     "output_type": "execute_result"
    }
   ],
   "source": [
    "# most common\n",
    "x,y = 1,2 \n",
    "x,y \n",
    "\n",
    "# split string \n",
    "x,y,z = 'XYZ'\n",
    "x,y,z\n",
    "\n",
    "# unpack -> unpack\n",
    "info, (y,m), week = ['date',(2018,7),'Wed.']\n",
    "info, (y,m), week\n",
    "\n",
    "# skip\n",
    "_, name, age, _ = ['shit','Alex',20,'shiiit']\n",
    "name,age\n",
    "\n",
    "# skip (batch)\n",
    "_, name, *_, age = ['shit','Alice','what','the',19]\n",
    "name,age"
   ]
  },
  {
   "cell_type": "code",
   "execution_count": 173,
   "metadata": {},
   "outputs": [],
   "source": [
    "# [1,2,3]\n",
    "first, *middle, last = ['Start',1,2,3,'End']\n",
    "\n",
    "# [100,120,80]\n",
    "name, gender, *scores = ['Alex','male',100,120,80]\n",
    "\n",
    "# 100.0\n",
    "def avg_the_scores(info=['alex',100,110,90]):\n",
    "    name, *scores = info\n",
    "    return sum(scores) / len(scores)"
   ]
  },
  {
   "cell_type": "code",
   "execution_count": 174,
   "metadata": {},
   "outputs": [
    {
     "data": {
      "text/plain": [
       "('root', '/var/root', '/bin/sh')"
      ]
     },
     "execution_count": 174,
     "metadata": {},
     "output_type": "execute_result"
    }
   ],
   "source": [
    "line = 'root:*:0:0:System Administrator:/var/root:/bin/sh'\n",
    "\n",
    "# split -> filter -> done!\n",
    "uname, *other, home, shell = line.split(':')\n",
    "uname, home, shell"
   ]
  },
  {
   "cell_type": "markdown",
   "metadata": {},
   "source": [
    "#### deque - fast ins/del"
   ]
  },
  {
   "cell_type": "code",
   "execution_count": 175,
   "metadata": {},
   "outputs": [],
   "source": [
    "from collections import deque"
   ]
  },
  {
   "cell_type": "code",
   "execution_count": 176,
   "metadata": {},
   "outputs": [
    {
     "data": {
      "text/plain": [
       "' fixed size '"
      ]
     },
     "execution_count": 176,
     "metadata": {},
     "output_type": "execute_result"
    },
    {
     "data": {
      "text/plain": [
       "deque([1, 2, 3])"
      ]
     },
     "execution_count": 176,
     "metadata": {},
     "output_type": "execute_result"
    },
    {
     "data": {
      "text/plain": [
       "deque([2, 3, 4])"
      ]
     },
     "execution_count": 176,
     "metadata": {},
     "output_type": "execute_result"
    },
    {
     "data": {
      "text/plain": [
       "deque([4, 5, 6])"
      ]
     },
     "execution_count": 176,
     "metadata": {},
     "output_type": "execute_result"
    }
   ],
   "source": [
    "''' fixed size '''\n",
    "\n",
    "q = deque(maxlen=3)\n",
    "\n",
    "q.append(1)     \n",
    "q.extend([2,3]) \n",
    "\n",
    "# normal \n",
    "q\n",
    "\n",
    "# the first N items'll be removed \n",
    "q.append(4)\n",
    "q\n",
    "\n",
    "# all gone, [2,3]\n",
    "q.extend([5,6])\n",
    "q"
   ]
  },
  {
   "cell_type": "code",
   "execution_count": 177,
   "metadata": {},
   "outputs": [
    {
     "data": {
      "text/plain": [
       "' deque VS list '"
      ]
     },
     "execution_count": 177,
     "metadata": {},
     "output_type": "execute_result"
    },
    {
     "data": {
      "text/plain": [
       "deque([0, 1, 2, 3, 4])"
      ]
     },
     "execution_count": 177,
     "metadata": {},
     "output_type": "execute_result"
    },
    {
     "data": {
      "text/plain": [
       "0"
      ]
     },
     "execution_count": 177,
     "metadata": {},
     "output_type": "execute_result"
    },
    {
     "data": {
      "text/plain": [
       "4"
      ]
     },
     "execution_count": 177,
     "metadata": {},
     "output_type": "execute_result"
    }
   ],
   "source": [
    "''' deque VS list '''\n",
    "\n",
    "# append/delete in both sides:\n",
    "#   list  ->  O(N)\n",
    "#   deque ->  O(1)\n",
    "\n",
    "dq = deque()\n",
    "\n",
    "dq.extend([1,2,3])\n",
    "\n",
    "dq.appendleft(0) # left   ( extend is also available )\n",
    "dq.append(4)     # right   \n",
    "\n",
    "dq\n",
    "\n",
    "dq.popleft()     # left \n",
    "dq.pop()         # right "
   ]
  },
  {
   "cell_type": "markdown",
   "metadata": {},
   "source": [
    "#### heapq - largest/smallest"
   ]
  },
  {
   "cell_type": "code",
   "execution_count": 178,
   "metadata": {},
   "outputs": [],
   "source": [
    "import heapq "
   ]
  },
  {
   "cell_type": "code",
   "execution_count": 179,
   "metadata": {},
   "outputs": [
    {
     "data": {
      "text/plain": [
       "[39, 21, 12]"
      ]
     },
     "execution_count": 179,
     "metadata": {},
     "output_type": "execute_result"
    },
    {
     "data": {
      "text/plain": [
       "[-12, 0, 1]"
      ]
     },
     "execution_count": 179,
     "metadata": {},
     "output_type": "execute_result"
    },
    {
     "data": {
      "text/plain": [
       "[{'name': 'ACME', 'shares': 75, 'price': 115.65},\n",
       " {'name': 'IBM', 'shares': 100, 'price': 91.1}]"
      ]
     },
     "execution_count": 179,
     "metadata": {},
     "output_type": "execute_result"
    }
   ],
   "source": [
    "nums = [1,8,12,39,12,0,-12,21]\n",
    "\n",
    "# basic \n",
    "heapq.nlargest(3,nums)\n",
    "heapq.nsmallest(3,nums)\n",
    "\n",
    "# btw, if u want the ONLY largest/smallest \n",
    "# use max()/min() instead !\n",
    "\n",
    "# specifying key \n",
    "high_dimen = [\n",
    "    {'name': 'YHOO', 'shares': 45, 'price': 16.35},\n",
    "    {'name': 'FB', 'shares': 200, 'price': 21.09},\n",
    "    {'name': 'HPQ', 'shares': 35, 'price': 31.75},\n",
    "    {'name': 'IBM', 'shares': 100, 'price': 91.1},\n",
    "    {'name': 'ACME', 'shares': 75, 'price': 115.65},\n",
    "]\n",
    "\n",
    "heapq.nlargest(\n",
    "    2,                         \n",
    "    high_dimen,                # the container \n",
    "    key=lambda x: x['price']   # list[elem-idx]: list[elem-idx]['key']\n",
    ")"
   ]
  },
  {
   "cell_type": "code",
   "execution_count": 180,
   "metadata": {},
   "outputs": [
    {
     "data": {
      "text/plain": [
       "[-4, 2, 18, 7, 8, 23, 23, 42, 37]"
      ]
     },
     "execution_count": 180,
     "metadata": {},
     "output_type": "execute_result"
    },
    {
     "data": {
      "text/plain": [
       "-4"
      ]
     },
     "execution_count": 180,
     "metadata": {},
     "output_type": "execute_result"
    },
    {
     "data": {
      "text/plain": [
       "[2, 7, 18, 37, 8, 23, 23, 42]"
      ]
     },
     "execution_count": 180,
     "metadata": {},
     "output_type": "execute_result"
    },
    {
     "name": "stdout",
     "output_type": "stream",
     "text": [
      "smallest: 2 ... for now.\n",
      "smallest: 7 ... for now.\n",
      "smallest: 8 ... for now.\n"
     ]
    }
   ],
   "source": [
    "nums = [ 8, 2, 23, 7, -4, 18, 23, 42, 37]\n",
    "\n",
    "# transform into a 'heap' (堆)\n",
    "heapq.heapify(nums)\n",
    "nums\n",
    "\n",
    "# heap[0] is always the smallest item ('堆'的特性)\n",
    "# 其時間複雜度僅為 O(log N) \n",
    "heapq.heappop(nums)\n",
    "nums \n",
    "\n",
    "for i in range(3):\n",
    "    \n",
    "    # get the smallest N element \n",
    "    a = heapq.heappop(nums)\n",
    "    \n",
    "    print('smallest:',a,'... for now.')"
   ]
  },
  {
   "cell_type": "code",
   "execution_count": 181,
   "metadata": {},
   "outputs": [
    {
     "data": {
      "text/plain": [
       "(42, -4)"
      ]
     },
     "execution_count": 181,
     "metadata": {},
     "output_type": "execute_result"
    },
    {
     "data": {
      "text/plain": [
       "([-4, 2, 7], [23, 37, 42])"
      ]
     },
     "execution_count": 181,
     "metadata": {},
     "output_type": "execute_result"
    },
    {
     "data": {
      "text/plain": [
       "('think again', 'and use heapq!')"
      ]
     },
     "execution_count": 181,
     "metadata": {},
     "output_type": "execute_result"
    }
   ],
   "source": [
    "# USE IT RIGHT \n",
    "\n",
    "nums = [ 8, 2, 23, 7, -4, 18, 23, 42, 37]\n",
    "\n",
    "if 'you-want-only-one':\n",
    "    max(nums), min(nums)\n",
    "\n",
    "if 'the-items-you-want-is-nearly-the-total':\n",
    "    sorted(nums)[:3], sorted(nums)[-3:]\n",
    "    \n",
    "if 'your-need-is-not-one-of-them':\n",
    "    'think again', 'and use heapq!'"
   ]
  },
  {
   "cell_type": "markdown",
   "metadata": {},
   "source": [
    "#### heapq - priority"
   ]
  },
  {
   "cell_type": "code",
   "execution_count": 182,
   "metadata": {},
   "outputs": [],
   "source": [
    "import heapq \n",
    "\n",
    "class PriorityQueue:\n",
    "    def __init__(self):\n",
    "        self._queue = []\n",
    "        self._index = 0\n",
    "        \n",
    "    def push(self, item, priority):\n",
    "        heapq.heappush(                     # add element\n",
    "            self._queue,                    # specifying the object (list/heaq)\n",
    "            (-priority, self._index, item)  # [], (-5 , 0, Item('commit'))\n",
    "        )\n",
    "        self._index += 1 \n",
    "        \n",
    "    def pop(self):\n",
    "        return heapq.heappop(self._queue)[-1]\n",
    "    \n",
    "class Item:\n",
    "    def __init__(self,name):\n",
    "        self.name = name \n",
    "    def __repr__(self):\n",
    "        return 'Item({!r})'.format(self.name)"
   ]
  },
  {
   "cell_type": "code",
   "execution_count": 183,
   "metadata": {},
   "outputs": [
    {
     "data": {
      "text/plain": [
       "Item('pull-request')"
      ]
     },
     "execution_count": 183,
     "metadata": {},
     "output_type": "execute_result"
    },
    {
     "data": {
      "text/plain": [
       "Item('commit')"
      ]
     },
     "execution_count": 183,
     "metadata": {},
     "output_type": "execute_result"
    },
    {
     "data": {
      "text/plain": [
       "Item('fork')"
      ]
     },
     "execution_count": 183,
     "metadata": {},
     "output_type": "execute_result"
    }
   ],
   "source": [
    "# push/pop\n",
    "\n",
    "q = PriorityQueue()\n",
    "\n",
    "q.push(Item('fork'),1)\n",
    "q.push(Item('star'),1)\n",
    "\n",
    "q.push(Item('commit'),4)\n",
    "q.push(Item('pull-request'),5)\n",
    "\n",
    "# always pop the highest priority element \n",
    "q.pop()\n",
    "q.pop()\n",
    "\n",
    "# if duplicates, pop by creating order (early first)\n",
    "q.pop()"
   ]
  },
  {
   "cell_type": "code",
   "execution_count": 184,
   "metadata": {},
   "outputs": [
    {
     "data": {
      "text/plain": [
       "True"
      ]
     },
     "execution_count": 184,
     "metadata": {},
     "output_type": "execute_result"
    },
    {
     "data": {
      "text/plain": [
       "True"
      ]
     },
     "execution_count": 184,
     "metadata": {},
     "output_type": "execute_result"
    }
   ],
   "source": [
    "# cmp\n",
    "\n",
    "try:\n",
    "    \n",
    "    # missing info\n",
    "    #   so it can't cmp with each other\n",
    "    a = Item('foo')\n",
    "    b = Item('bar')\n",
    "    c = None             # placeholder\n",
    "    \n",
    "    # bad guy\n",
    "    a < b \n",
    "    \n",
    "except Exception as err:\n",
    "    \n",
    "    # same priority is fine \n",
    "    a = (1,Item('foo'))\n",
    "    b = (5,Item('bar'))  \n",
    "    c = None             # placeholder\n",
    "    \n",
    "    # if they both have the same pri,\n",
    "    #   there's still an error will be raised\n",
    "    pass\n",
    "\n",
    "finally:\n",
    "    \n",
    "    # (pri, idx, item)\n",
    "    a = (1,0,Item('foo'))\n",
    "    b = (5,1,Item('fuc'))\n",
    "    c = (1,2,Item('bar'))\n",
    "    \n",
    "a < b\n",
    "a < c "
   ]
  },
  {
   "cell_type": "markdown",
   "metadata": {},
   "source": [
    "#### defaultdict - mapping multiple values"
   ]
  },
  {
   "cell_type": "code",
   "execution_count": 185,
   "metadata": {},
   "outputs": [],
   "source": [
    "# quick tips:\n",
    "#   list  --  ordering reserved \n",
    "#   set   --  no duplicates & not ordered "
   ]
  },
  {
   "cell_type": "code",
   "execution_count": 186,
   "metadata": {},
   "outputs": [],
   "source": [
    "from collections import defaultdict \n",
    "\n",
    "tips = ''' \n",
    "    Initializing as XXX, u're able use the methods of XXX.\n",
    "\n",
    "    That is:\n",
    "        list  -- append, extend etc. (IT IS list!!)\n",
    "        set   -- add, update    etc.\n",
    "        \n",
    "    The tips are applied to all the methods down below.\n",
    "'''\n",
    "\n",
    "\n",
    "def dic_mulval_normal():\n",
    "    \n",
    "    d1 = {\n",
    "        'a': [1,2,3],\n",
    "        'b': [4,5]\n",
    "    }\n",
    "\n",
    "    d1['a'].append(4)\n",
    "    d1['a'].extend([5,6])\n",
    "\n",
    "\n",
    "def dic_mulval_setdefault():\n",
    "\n",
    "    d2 = {}\n",
    "    \n",
    "    d2.setdefault('a',[]).append(1)\n",
    "    d2.setdefault('a',[]).extend([2,3])\n",
    "    \n",
    "\n",
    "def dic_mulval_collc_defaultdict():\n",
    "    \n",
    "    d = defaultdict(list)\n",
    "\n",
    "    # init them automatically (value: [])\n",
    "    d['a'], d['what']\n",
    "\n",
    "    d['a'].append(1)\n",
    "    d['a'].extend([2,3])"
   ]
  },
  {
   "cell_type": "code",
   "execution_count": 187,
   "metadata": {},
   "outputs": [
    {
     "data": {
      "text/plain": [
       "defaultdict(list, {'a': [1, 2], 'b': [3, 4]})"
      ]
     },
     "execution_count": 187,
     "metadata": {},
     "output_type": "execute_result"
    }
   ],
   "source": [
    "# add existing vals to dict \n",
    "\n",
    "existing_vals  = { 'a' : [1, 2], 'b' : [3, 4] }.items()  \n",
    "dict_to_be_add = defaultdict(list)\n",
    "\n",
    "for key,value in existing_vals:\n",
    "    dict_to_be_add[key].extend(value)\n",
    "    \n",
    "dict_to_be_add"
   ]
  },
  {
   "cell_type": "markdown",
   "metadata": {},
   "source": [
    "#### OrderedDict - dict ordering"
   ]
  },
  {
   "cell_type": "code",
   "execution_count": 188,
   "metadata": {},
   "outputs": [
    {
     "name": "stdout",
     "output_type": "stream",
     "text": [
      "foo : It is\n",
      "bar : a dict\n",
      "oop : after all\n"
     ]
    },
    {
     "data": {
      "text/plain": [
       "'{\"foo\": \"It is\", \"bar\": \"a dict\", \"oop\": \"after all\"}'"
      ]
     },
     "execution_count": 188,
     "metadata": {},
     "output_type": "execute_result"
    }
   ],
   "source": [
    "from collections import OrderedDict\n",
    "import json \n",
    "\n",
    "d = OrderedDict()\n",
    "\n",
    "d['foo'] = \"It is\"\n",
    "d['bar'] = \"a dict\"\n",
    "d['oop'] = \"after all\"\n",
    "\n",
    "# Loop it as a normal dict (IT IS)\n",
    "for k in d:\n",
    "    print(k, ':', d[k])\n",
    "    \n",
    "# JSON will be nice :)\n",
    "json.dumps(d)\n",
    "\n",
    "# btw\n",
    "tips = \"\"\"\n",
    "    The size of 'OrderedDict' is twice of the normal dict!\n",
    "    In human words, \n",
    "        it'll consume much MORE memory than normal dict.\n",
    "\"\"\""
   ]
  },
  {
   "cell_type": "markdown",
   "metadata": {},
   "source": [
    "#### dict - k,v / max,min"
   ]
  },
  {
   "cell_type": "code",
   "execution_count": 189,
   "metadata": {},
   "outputs": [],
   "source": [
    "prices = {\n",
    "    'ACME': 45.23,\n",
    "    'AAPL': 612.78,\n",
    "    'IBM': 205.55,\n",
    "    'HPQ': 37.20,\n",
    "    'FB': 10.75\n",
    "}"
   ]
  },
  {
   "cell_type": "code",
   "execution_count": 190,
   "metadata": {},
   "outputs": [
    {
     "data": {
      "text/plain": [
       "'AAPL'"
      ]
     },
     "execution_count": 190,
     "metadata": {},
     "output_type": "execute_result"
    },
    {
     "data": {
      "text/plain": [
       "10.75"
      ]
     },
     "execution_count": 190,
     "metadata": {},
     "output_type": "execute_result"
    },
    {
     "data": {
      "text/plain": [
       "'FB'"
      ]
     },
     "execution_count": 190,
     "metadata": {},
     "output_type": "execute_result"
    },
    {
     "data": {
      "text/plain": [
       "10.75"
      ]
     },
     "execution_count": 190,
     "metadata": {},
     "output_type": "execute_result"
    }
   ],
   "source": [
    "# 'evolution' (sort of XD)\n",
    "\n",
    "# key only\n",
    "min(prices)\n",
    "\n",
    "# value only  (what, what the fuck XD)\n",
    "min(prices.values())\n",
    "\n",
    "# the corresponding key, and val (hmm)\n",
    "min(\n",
    "    prices, key=lambda k: prices[k]\n",
    ")\n",
    "\n",
    "prices[\n",
    "    min(\n",
    "        prices, key=lambda k: prices[k]\n",
    "    )\n",
    "]"
   ]
  },
  {
   "cell_type": "code",
   "execution_count": 191,
   "metadata": {},
   "outputs": [
    {
     "data": {
      "text/plain": [
       "(10.75, 'FB')"
      ]
     },
     "execution_count": 191,
     "metadata": {},
     "output_type": "execute_result"
    },
    {
     "data": {
      "text/plain": [
       "(10.75, 'FB')"
      ]
     },
     "execution_count": 191,
     "metadata": {},
     "output_type": "execute_result"
    },
    {
     "data": {
      "text/plain": [
       "(200, 'AAA')"
      ]
     },
     "execution_count": 191,
     "metadata": {},
     "output_type": "execute_result"
    }
   ],
   "source": [
    "# 更佳的一種求極值的方式 (zip)\n",
    "\n",
    "min_price_zipped = min(\n",
    "    zip(prices.values(), prices.keys())\n",
    ")\n",
    "\n",
    "min_price_sorted = sorted(\n",
    "    zip(prices.values(), prices.keys())\n",
    ")\n",
    "\n",
    "# min(Them) is fine \n",
    "min_price_zipped\n",
    "\n",
    "# or you could sort it and pick the first (min)\n",
    "min_price_sorted[0]\n",
    "\n",
    "\n",
    "# ----- BUT ----- \n",
    "\n",
    "same_val_wtf = {'AAA':200,'GGG':200}\n",
    "\n",
    "min(\n",
    "    zip(\n",
    "        same_val_wtf.values(),  # cmp values first, but \"not\" in this case \n",
    "        same_val_wtf.keys(),    # same val? continue to cmp key, key does the sort!\n",
    "    )\n",
    ")"
   ]
  },
  {
   "cell_type": "markdown",
   "metadata": {},
   "source": [
    "#### dict - find the similarities"
   ]
  },
  {
   "cell_type": "code",
   "execution_count": 192,
   "metadata": {},
   "outputs": [
    {
     "data": {
      "text/plain": [
       "{'x', 'z'}"
      ]
     },
     "execution_count": 192,
     "metadata": {},
     "output_type": "execute_result"
    },
    {
     "data": {
      "text/plain": [
       "{'w'}"
      ]
     },
     "execution_count": 192,
     "metadata": {},
     "output_type": "execute_result"
    },
    {
     "data": {
      "text/plain": [
       "{('z', 3)}"
      ]
     },
     "execution_count": 192,
     "metadata": {},
     "output_type": "execute_result"
    }
   ],
   "source": [
    "a = {\n",
    "    'w': 1,\n",
    "    'x': 2,\n",
    "    'z': 3\n",
    "}\n",
    "\n",
    "b = {\n",
    "    'x': 10,\n",
    "    'y': 20,\n",
    "    'z': 3\n",
    "}\n",
    "\n",
    "\n",
    "# in common \n",
    "a.keys() & b.keys()\n",
    "\n",
    "# a has\n",
    "# b doesn't \n",
    "a.keys() - b.keys()\n",
    "\n",
    "# k,v all the same \n",
    "a.items() & b.items()"
   ]
  },
  {
   "cell_type": "code",
   "execution_count": 193,
   "metadata": {},
   "outputs": [
    {
     "data": {
      "text/plain": [
       "{'x': 2, 'w': 1}"
      ]
     },
     "execution_count": 193,
     "metadata": {},
     "output_type": "execute_result"
    }
   ],
   "source": [
    "# remove specific keys - dict comprehension \n",
    "\n",
    "{ \n",
    "    # cleaner, and readability\n",
    "    k:a[k] for k in a.keys() - {'z'} \n",
    "}"
   ]
  },
  {
   "cell_type": "markdown",
   "metadata": {},
   "source": [
    "#### del duplicates while keeping order"
   ]
  },
  {
   "cell_type": "code",
   "execution_count": 194,
   "metadata": {},
   "outputs": [
    {
     "data": {
      "text/plain": [
       "[1, 2, 3, 7, 18]"
      ]
     },
     "execution_count": 194,
     "metadata": {},
     "output_type": "execute_result"
    },
    {
     "data": {
      "text/plain": [
       "TypeError(\"unhashable type: 'dict'\")"
      ]
     },
     "execution_count": 194,
     "metadata": {},
     "output_type": "execute_result"
    }
   ],
   "source": [
    "def dedupe(items):\n",
    "    ''' dedupe: 重復資料刪除 '''\n",
    "    \n",
    "    seen = set()              # Hmm..\n",
    "    \n",
    "    for item in items:        # 遍歷\n",
    "        \n",
    "        if item not in seen:  # if 沒有 -> add 至空集合 (起始狀態)\n",
    "            yield item        # 'return' result (generator)\n",
    "            \n",
    "            seen.add(item)    # add 至空集合 (若 if 結果為 False, 壓根不會執行到這兒)\n",
    "\n",
    "            \n",
    "a_list = [1,2,2,3,7,2,18] \n",
    "a_dict = [ {'x':1, 'y':2}, {'x':1, 'y':2}, {'x':3, 'y':4}]\n",
    "\n",
    "\n",
    "list(dedupe(a_list))\n",
    "\n",
    "try:\n",
    "    list(dedupe(a_dict))\n",
    "except TypeError as err:\n",
    "    err"
   ]
  },
  {
   "cell_type": "code",
   "execution_count": 195,
   "metadata": {},
   "outputs": [
    {
     "data": {
      "text/plain": [
       "[1, 2, 3, 7, 18]"
      ]
     },
     "execution_count": 195,
     "metadata": {},
     "output_type": "execute_result"
    },
    {
     "data": {
      "text/plain": [
       "[{'x': 1, 'y': 2}, {'x': 3, 'y': 4}]"
      ]
     },
     "execution_count": 195,
     "metadata": {},
     "output_type": "execute_result"
    },
    {
     "data": {
      "text/plain": [
       "[{'x': 1, 'y': 2}, {'x': 1, 'y': 3}, {'x': 3, 'y': 4}]"
      ]
     },
     "execution_count": 195,
     "metadata": {},
     "output_type": "execute_result"
    }
   ],
   "source": [
    "def dedupe_advance(items,key=None):\n",
    "    \n",
    "    seen = set()\n",
    "    \n",
    "    for item in items:\n",
    "        \n",
    "        val = item if key is None else key(item)\n",
    "        \n",
    "        if val not in seen:\n",
    "            yield item \n",
    "            \n",
    "            seen.add(val)\n",
    "\n",
    "            \n",
    "a_list = [1,2,2,3,7,2,18] \n",
    "a_dict = [ \n",
    "    {'x':1, 'y':2}, \n",
    "    {'x':1, 'y':2}, \n",
    "    {'x':1, 'y':3},\n",
    "    {'x':3, 'y':4}\n",
    "]\n",
    "\n",
    "\n",
    "# just like old times            \n",
    "list(dedupe_advance(a_list))\n",
    "\n",
    "# for dict \n",
    "list(dedupe_advance(\n",
    "    a_dict,\n",
    "    key=lambda d: (d['x'])         # remove once the key is the same \n",
    "))\n",
    "\n",
    "list(dedupe_advance(\n",
    "    a_dict,\n",
    "    key=lambda d: (d['x'],d['y'])  # remove if key,val both the same \n",
    "))\n"
   ]
  },
  {
   "cell_type": "code",
   "execution_count": 196,
   "metadata": {},
   "outputs": [
    {
     "name": "stdout",
     "output_type": "stream",
     "text": [
      "666\n",
      "111\n",
      "222\n"
     ]
    }
   ],
   "source": [
    "# the dedupe() could also\n",
    "#   be used to remove the duplicating line (file)\n",
    "\n",
    "with open('test.txt','r') as f:\n",
    "    for line in dedupe(f):\n",
    "        print(line,end='')  # 666 is actually '666\\n' (at least the 1st line XD)"
   ]
  },
  {
   "cell_type": "markdown",
   "metadata": {},
   "source": [
    "#### slice - naming slice"
   ]
  },
  {
   "cell_type": "code",
   "execution_count": 197,
   "metadata": {},
   "outputs": [
    {
     "data": {
      "text/plain": [
       "'01234567890'"
      ]
     },
     "execution_count": 197,
     "metadata": {},
     "output_type": "execute_result"
    },
    {
     "data": {
      "text/plain": [
       "<function slice.indices>"
      ]
     },
     "execution_count": 197,
     "metadata": {},
     "output_type": "execute_result"
    },
    {
     "data": {
      "text/plain": [
       "(6, 17, 1)"
      ]
     },
     "execution_count": 197,
     "metadata": {},
     "output_type": "execute_result"
    }
   ],
   "source": [
    "a = \"######0123456789012345678901234567890123456789012345678901234567890\"\n",
    "\n",
    "# just like a[6,17]\n",
    "# but created as an object \n",
    "pick_natural_num = slice(6,17,1)\n",
    "\n",
    "# readability!\n",
    "a[pick_natural_num]\n",
    "\n",
    "# it's even got Attributes!\n",
    "pick_natural_num.indices\n",
    "pick_natural_num.start, pick_natural_num.stop, pick_natural_num.step"
   ]
  },
  {
   "cell_type": "code",
   "execution_count": 198,
   "metadata": {},
   "outputs": [
    {
     "data": {
      "text/plain": [
       "slice(0, 50, 1)"
      ]
     },
     "execution_count": 198,
     "metadata": {},
     "output_type": "execute_result"
    },
    {
     "data": {
      "text/plain": [
       "(0, 5, 1)"
      ]
     },
     "execution_count": 198,
     "metadata": {},
     "output_type": "execute_result"
    },
    {
     "data": {
      "text/plain": [
       "slice(0, 5, 1)"
      ]
     },
     "execution_count": 198,
     "metadata": {},
     "output_type": "execute_result"
    },
    {
     "name": "stdout",
     "output_type": "stream",
     "text": [
      "H\te\tl\tl\to\t"
     ]
    }
   ],
   "source": [
    "a = 'Hello'\n",
    "\n",
    "obj = slice(0, 50, 1)\n",
    "\n",
    "obj                       # slice\n",
    "obj.indices(len(a))       # tuple \n",
    "\n",
    "slice(\n",
    "    *obj.indices(len(a))  # conv 'indice' to 'slice'\n",
    ")\n",
    "\n",
    "# actual usage \n",
    "for i in range(*obj.indices(len('Hello'))):\n",
    "    print(s[i],end='\\t')"
   ]
  },
  {
   "cell_type": "markdown",
   "metadata": {},
   "source": [
    "#### Counter - most common elements"
   ]
  },
  {
   "cell_type": "code",
   "execution_count": 199,
   "metadata": {},
   "outputs": [],
   "source": [
    "words = [\n",
    "    'look','eyes','the', 'eyes', 'the', 'eyes',\n",
    "    'eyes', \"don't\", 'under', 'not', 'around', 'the'\n",
    "]"
   ]
  },
  {
   "cell_type": "code",
   "execution_count": 200,
   "metadata": {},
   "outputs": [
    {
     "data": {
      "text/plain": [
       "Counter({'look': 1,\n",
       "         'eyes': 4,\n",
       "         'the': 3,\n",
       "         \"don't\": 1,\n",
       "         'under': 1,\n",
       "         'not': 1,\n",
       "         'around': 1})"
      ]
     },
     "execution_count": 200,
     "metadata": {},
     "output_type": "execute_result"
    },
    {
     "data": {
      "text/plain": [
       "[('eyes', 4), ('the', 3)]"
      ]
     },
     "execution_count": 200,
     "metadata": {},
     "output_type": "execute_result"
    },
    {
     "data": {
      "text/plain": [
       "(1, 4)"
      ]
     },
     "execution_count": 200,
     "metadata": {},
     "output_type": "execute_result"
    },
    {
     "data": {
      "text/plain": [
       "(3, 6)"
      ]
     },
     "execution_count": 200,
     "metadata": {},
     "output_type": "execute_result"
    }
   ],
   "source": [
    "from collections import Counter \n",
    "\n",
    "word_cnt = Counter(words)\n",
    "\n",
    "word_cnt\n",
    "word_cnt.most_common(2)\n",
    "\n",
    "def hey():\n",
    "    word_cnt.items()\n",
    "    word_cnt.keys()\n",
    "    word_cnt.values()\n",
    "\n",
    "# and these \n",
    "word_cnt['not'], word_cnt['eyes']  # 1,4 \n",
    "\n",
    "# add counting results \n",
    "more_words = ['crap','not','eyes'] # 2,5\n",
    "for w in more_words:\n",
    "    word_cnt[w] += 1 \n",
    "    \n",
    "# or using update \n",
    "word_cnt.update(more_words)        # 3,6 -- add again! \n",
    "     \n",
    "word_cnt['not'], word_cnt['eyes']"
   ]
  },
  {
   "cell_type": "code",
   "execution_count": 201,
   "metadata": {},
   "outputs": [
    {
     "data": {
      "text/plain": [
       "Counter({'look': 1,\n",
       "         'eyes': 5,\n",
       "         'the': 3,\n",
       "         \"don't\": 1,\n",
       "         'under': 1,\n",
       "         'not': 2,\n",
       "         'around': 1,\n",
       "         'crap': 1})"
      ]
     },
     "execution_count": 201,
     "metadata": {},
     "output_type": "execute_result"
    },
    {
     "data": {
      "text/plain": [
       "Counter({'look': 1, 'eyes': 3, 'the': 3, \"don't\": 1, 'under': 1, 'around': 1})"
      ]
     },
     "execution_count": 201,
     "metadata": {},
     "output_type": "execute_result"
    },
    {
     "data": {
      "text/plain": [
       "Counter({'crap': 1})"
      ]
     },
     "execution_count": 201,
     "metadata": {},
     "output_type": "execute_result"
    },
    {
     "data": {
      "text/plain": [
       "Counter({'eyes': 1, 'not': 1})"
      ]
     },
     "execution_count": 201,
     "metadata": {},
     "output_type": "execute_result"
    }
   ],
   "source": [
    "word      = words       # above \n",
    "word_more = more_words  # above \n",
    "\n",
    "a = Counter(word)\n",
    "b = Counter(word_more)\n",
    "\n",
    "# You're able to do arithmetic on it!!\n",
    "a + b \n",
    "a - b\n",
    "b - a\n",
    "a & b"
   ]
  },
  {
   "cell_type": "markdown",
   "metadata": {},
   "source": [
    "#### itemgetter - sort dict by giving key"
   ]
  },
  {
   "cell_type": "code",
   "execution_count": 202,
   "metadata": {},
   "outputs": [
    {
     "data": {
      "text/plain": [
       "1"
      ]
     },
     "execution_count": 202,
     "metadata": {},
     "output_type": "execute_result"
    },
    {
     "data": {
      "text/plain": [
       "(1, 4)"
      ]
     },
     "execution_count": 202,
     "metadata": {},
     "output_type": "execute_result"
    }
   ],
   "source": [
    "# Basis\n",
    "\n",
    "func_pick_one  = itemgetter(0)\n",
    "func_pick_more = itemgetter(0,-1)\n",
    "\n",
    "func_pick_one(\n",
    "    [1,2,3,4]\n",
    ")\n",
    "\n",
    "func_pick_more(\n",
    "    [1,2,3,4]\n",
    ")"
   ]
  },
  {
   "cell_type": "code",
   "execution_count": 203,
   "metadata": {},
   "outputs": [],
   "source": [
    "rows = [\n",
    "    {'fname': 'Brian', 'uid': 1003},\n",
    "    {'fname': 'David', 'uid': 1004},\n",
    "    {'fname': 'John', 'uid': 1001},\n",
    "    {'fname': 'Big', 'uid': 1002}\n",
    "]"
   ]
  },
  {
   "cell_type": "code",
   "execution_count": 204,
   "metadata": {},
   "outputs": [
    {
     "data": {
      "text/plain": [
       "[{'fname': 'John', 'uid': 1001},\n",
       " {'fname': 'Big', 'uid': 1002},\n",
       " {'fname': 'Brian', 'uid': 1003},\n",
       " {'fname': 'David', 'uid': 1004}]"
      ]
     },
     "execution_count": 204,
     "metadata": {},
     "output_type": "execute_result"
    },
    {
     "data": {
      "text/plain": [
       "[{'fname': 'John', 'uid': 1001},\n",
       " {'fname': 'Big', 'uid': 1002},\n",
       " {'fname': 'Brian', 'uid': 1003},\n",
       " {'fname': 'David', 'uid': 1004}]"
      ]
     },
     "execution_count": 204,
     "metadata": {},
     "output_type": "execute_result"
    },
    {
     "data": {
      "text/plain": [
       "{'fname': 'John', 'uid': 1001}"
      ]
     },
     "execution_count": 204,
     "metadata": {},
     "output_type": "execute_result"
    },
    {
     "data": {
      "text/plain": [
       "{'fname': 'David', 'uid': 1004}"
      ]
     },
     "execution_count": 204,
     "metadata": {},
     "output_type": "execute_result"
    }
   ],
   "source": [
    "from operator import itemgetter\n",
    "\n",
    "# this one is faster than 'lambda'\n",
    "by_fname_ig = sorted(rows, key=itemgetter('uid'))\n",
    "by_fname_ig\n",
    "\n",
    "by_fname_lm = sorted(rows, key=lambda r: r['uid'])\n",
    "by_fname_lm\n",
    "\n",
    "# also, there's max/min\n",
    "min(rows, key=itemgetter('uid'))\n",
    "max(rows, key=itemgetter('uid'))"
   ]
  },
  {
   "cell_type": "markdown",
   "metadata": {},
   "source": [
    "#### attrgetter - sort 'cannot be sorted'"
   ]
  },
  {
   "cell_type": "code",
   "execution_count": 243,
   "metadata": {},
   "outputs": [
    {
     "data": {
      "text/plain": [
       "[40, 12, 27]"
      ]
     },
     "execution_count": 243,
     "metadata": {},
     "output_type": "execute_result"
    },
    {
     "data": {
      "text/plain": [
       "[(40, 'xxx'), (12, 'xxx'), (27, 'xxx')]"
      ]
     },
     "execution_count": 243,
     "metadata": {},
     "output_type": "execute_result"
    }
   ],
   "source": [
    "from operator import attrgetter\n",
    "\n",
    "# attrgetter basis \n",
    "\n",
    "dict_pick_one  = attrgetter('user_id')\n",
    "dict_pick_more = attrgetter('user_id','name')\n",
    "\n",
    "[dict_pick_one(i) for i in users ]  # each elem call its 'User(xx).user_id'\n",
    "[ dict_pick_more(i) for i in users] # more than one, '.user_id' & '.name' "
   ]
  },
  {
   "cell_type": "code",
   "execution_count": 244,
   "metadata": {},
   "outputs": [],
   "source": [
    "class User:\n",
    "    def __init__(self, user_id,name='xxx'):\n",
    "        self.user_id = user_id \n",
    "        self.name = name\n",
    "    \n",
    "    def __repr__(self):\n",
    "        return 'User({})'.format(self.user_id)\n",
    "    \n",
    "    \n",
    "users = [User(40), User(12), User(27)]"
   ]
  },
  {
   "cell_type": "code",
   "execution_count": 245,
   "metadata": {},
   "outputs": [
    {
     "data": {
      "text/plain": [
       "[User(12), User(27), User(40)]"
      ]
     },
     "execution_count": 245,
     "metadata": {},
     "output_type": "execute_result"
    },
    {
     "data": {
      "text/plain": [
       "[User(12), User(27), User(40)]"
      ]
     },
     "execution_count": 245,
     "metadata": {},
     "output_type": "execute_result"
    },
    {
     "data": {
      "text/plain": [
       "User(12)"
      ]
     },
     "execution_count": 245,
     "metadata": {},
     "output_type": "execute_result"
    },
    {
     "data": {
      "text/plain": [
       "User(40)"
      ]
     },
     "execution_count": 245,
     "metadata": {},
     "output_type": "execute_result"
    }
   ],
   "source": [
    "sorted(\n",
    "    users,\n",
    "    key=attrgetter('user_id') # still, this one is faster than 'lambda'\n",
    ")\n",
    "\n",
    "sorted(\n",
    "    users, \n",
    "    key=lambda u: u.user_id   # User - (self) - user_id\n",
    ")\n",
    "\n",
    "\n",
    "# and.. max/min are supported \n",
    "\n",
    "min(\n",
    "    users,\n",
    "    key=attrgetter('user_id')\n",
    ")\n",
    "\n",
    "max(\n",
    "    users,\n",
    "    key=attrgetter('user_id')\n",
    ")"
   ]
  },
  {
   "cell_type": "code",
   "execution_count": null,
   "metadata": {},
   "outputs": [],
   "source": []
  }
 ],
 "metadata": {
  "kernelspec": {
   "display_name": "Python 3",
   "language": "python",
   "name": "python3"
  },
  "language_info": {
   "codemirror_mode": {
    "name": "ipython",
    "version": 3
   },
   "file_extension": ".py",
   "mimetype": "text/x-python",
   "name": "python",
   "nbconvert_exporter": "python",
   "pygments_lexer": "ipython3",
   "version": "3.6.5"
  }
 },
 "nbformat": 4,
 "nbformat_minor": 2
}
