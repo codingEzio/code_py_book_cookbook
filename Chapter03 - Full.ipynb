{
 "cells": [
  {
   "cell_type": "markdown",
   "metadata": {},
   "source": [
    "链接在此: [第三章 - 数字日期和时间](https://python-cookbook-3rd-edition.readthedocs.io/zh_CN/latest/chapters/p03_numbers_dates_times.html)"
   ]
  },
  {
   "cell_type": "markdown",
   "metadata": {},
   "source": [
    "#### rounding numerical values"
   ]
  },
  {
   "cell_type": "code",
   "execution_count": 34,
   "metadata": {},
   "outputs": [
    {
     "data": {
      "text/plain": [
       "' using round '"
      ]
     },
     "execution_count": 34,
     "metadata": {},
     "output_type": "execute_result"
    },
    {
     "data": {
      "text/plain": [
       "(1.3, 1.4, 1.4)"
      ]
     },
     "execution_count": 34,
     "metadata": {},
     "output_type": "execute_result"
    },
    {
     "data": {
      "text/plain": [
       "(22.0, 20.0)"
      ]
     },
     "execution_count": 34,
     "metadata": {},
     "output_type": "execute_result"
    },
    {
     "data": {
      "text/plain": [
       "(1759, 1760, 1800)"
      ]
     },
     "execution_count": 34,
     "metadata": {},
     "output_type": "execute_result"
    }
   ],
   "source": [
    "tips_round = '''\n",
    "    1  =>  .x      ---  1.56,  1 => 1.6\n",
    "    2  =>  .xx     ---  1.565, 2 => 1.57\n",
    "   -1  =>  XX(X)X  ---  1565, -1 => 1570\n",
    "'''\n",
    "\n",
    "''' using round '''\n",
    "\n",
    "# >=5 \n",
    "round(1.34, 1),\\\n",
    "round(1.35, 1),\\\n",
    "round(1.36, 1)\n",
    "\n",
    "# in-mid => closest even nums\n",
    "round(21.5, 0),\\\n",
    "round(20.5, 0), \n",
    "\n",
    "# neg val \n",
    "round(1759,  0),\\\n",
    "round(1759, -1),\\\n",
    "round(1759, -2)"
   ]
  },
  {
   "cell_type": "code",
   "execution_count": 85,
   "metadata": {},
   "outputs": [
    {
     "data": {
      "text/plain": [
       "' formatting '"
      ]
     },
     "execution_count": 85,
     "metadata": {},
     "output_type": "execute_result"
    },
    {
     "data": {
      "text/plain": [
       "'1.2'"
      ]
     },
     "execution_count": 85,
     "metadata": {},
     "output_type": "execute_result"
    },
    {
     "data": {
      "text/plain": [
       "'1.25'"
      ]
     },
     "execution_count": 85,
     "metadata": {},
     "output_type": "execute_result"
    },
    {
     "data": {
      "text/plain": [
       "'1.246'"
      ]
     },
     "execution_count": 85,
     "metadata": {},
     "output_type": "execute_result"
    }
   ],
   "source": [
    "''' formatting '''\n",
    "\n",
    "num = 1.2456\n",
    "\n",
    "f'{num:.1f}'\n",
    "f'{num:.2f}'\n",
    "f'{num:.3f}'"
   ]
  },
  {
   "cell_type": "code",
   "execution_count": 121,
   "metadata": {},
   "outputs": [
    {
     "data": {
      "text/plain": [
       "' advanced formatting '"
      ]
     },
     "execution_count": 121,
     "metadata": {},
     "output_type": "execute_result"
    },
    {
     "data": {
      "text/plain": [
       "'1234.57'"
      ]
     },
     "execution_count": 121,
     "metadata": {},
     "output_type": "execute_result"
    },
    {
     "data": {
      "text/plain": [
       "'        1234.57'"
      ]
     },
     "execution_count": 121,
     "metadata": {},
     "output_type": "execute_result"
    },
    {
     "data": {
      "text/plain": [
       "'1234.57        '"
      ]
     },
     "execution_count": 121,
     "metadata": {},
     "output_type": "execute_result"
    },
    {
     "data": {
      "text/plain": [
       "'    1234.57    '"
      ]
     },
     "execution_count": 121,
     "metadata": {},
     "output_type": "execute_result"
    },
    {
     "data": {
      "text/plain": [
       "'1,234.5678'"
      ]
     },
     "execution_count": 121,
     "metadata": {},
     "output_type": "execute_result"
    },
    {
     "data": {
      "text/plain": [
       "'1,234.6'"
      ]
     },
     "execution_count": 121,
     "metadata": {},
     "output_type": "execute_result"
    },
    {
     "data": {
      "text/plain": [
       "'1.234568e+03'"
      ]
     },
     "execution_count": 121,
     "metadata": {},
     "output_type": "execute_result"
    },
    {
     "data": {
      "text/plain": [
       "'1.23e+03'"
      ]
     },
     "execution_count": 121,
     "metadata": {},
     "output_type": "execute_result"
    },
    {
     "data": {
      "text/plain": [
       "'1.23E+03'"
      ]
     },
     "execution_count": 121,
     "metadata": {},
     "output_type": "execute_result"
    }
   ],
   "source": [
    "''' advanced formatting '''\n",
    "\n",
    "# syntax: '[<>^]?width[,]?(.digits)?'\n",
    "num = 1234.5678\n",
    "\n",
    "f'{num:.2f}'\n",
    "\n",
    "f'{num:>15.2f}'\n",
    "f'{num:<15.2f}'\n",
    "f'{num:^15.2f}'\n",
    "\n",
    "f'{num:,}'\n",
    "f'{num:,.1f}'\n",
    "\n",
    "f'{num:e}'\n",
    "f'{num:.2e}'\n",
    "f'{num:.2E}'"
   ]
  },
  {
   "cell_type": "markdown",
   "metadata": {},
   "source": [
    "#### accurate decimal calc"
   ]
  },
  {
   "cell_type": "code",
   "execution_count": 54,
   "metadata": {},
   "outputs": [
    {
     "data": {
      "text/plain": [
       "6"
      ]
     },
     "execution_count": 54,
     "metadata": {},
     "output_type": "execute_result"
    },
    {
     "data": {
      "text/plain": [
       "6.199999999999999"
      ]
     },
     "execution_count": 54,
     "metadata": {},
     "output_type": "execute_result"
    }
   ],
   "source": [
    "4   + 2\n",
    "4.1 + 2.1  # 6.19999999..."
   ]
  },
  {
   "cell_type": "code",
   "execution_count": 58,
   "metadata": {},
   "outputs": [
    {
     "data": {
      "text/plain": [
       "Decimal('3.000000000000000000000000000')"
      ]
     },
     "execution_count": 58,
     "metadata": {},
     "output_type": "execute_result"
    },
    {
     "data": {
      "text/plain": [
       "Decimal('3.0')"
      ]
     },
     "execution_count": 58,
     "metadata": {},
     "output_type": "execute_result"
    },
    {
     "data": {
      "text/plain": [
       "Decimal('1.4285714285714286031492292750044725835323333740234375')"
      ]
     },
     "execution_count": 58,
     "metadata": {},
     "output_type": "execute_result"
    }
   ],
   "source": [
    "# control everything!  (well, decimal calc)\n",
    "\n",
    "from decimal import Decimal, localcontext\n",
    "\n",
    "Decimal(1.3)   + Decimal(1.7)    # do use str (NOT int/float)\n",
    "Decimal('1.3') + Decimal('1.7')\n",
    "\n",
    "# precision \n",
    "\n",
    "with localcontext() as ctx:\n",
    "    ctx.prec = 20\n",
    "    Decimal(10 / 7)"
   ]
  },
  {
   "cell_type": "code",
   "execution_count": 84,
   "metadata": {},
   "outputs": [
    {
     "data": {
      "text/plain": [
       "Decimal('1')"
      ]
     },
     "execution_count": 84,
     "metadata": {},
     "output_type": "execute_result"
    },
    {
     "data": {
      "text/plain": [
       "0.0"
      ]
     },
     "execution_count": 84,
     "metadata": {},
     "output_type": "execute_result"
    },
    {
     "data": {
      "text/plain": [
       "1.0"
      ]
     },
     "execution_count": 84,
     "metadata": {},
     "output_type": "execute_result"
    }
   ],
   "source": [
    "# there's another problem \n",
    "\n",
    "from decimal import Decimal \n",
    "from math import fsum\n",
    "\n",
    "# for decimal, everything is fine \n",
    "sum(\n",
    "    [Dec(1.23e+18), Dec(1), Dec(-1.23e+18)]\n",
    ")\n",
    "\n",
    "# for normal num, nope!\n",
    "sum(\n",
    "    [1.23e+18, 1, -1.23e+18]  # the '1' disappeared!!\n",
    ")\n",
    "\n",
    "# use 'fsum' instead!\n",
    "fsum(\n",
    "    [1.23e+18, 1, -1.23e+18]  # got what you want ~\n",
    ")"
   ]
  },
  {
   "cell_type": "markdown",
   "metadata": {},
   "source": [
    "#### bin,oct,hex with format"
   ]
  },
  {
   "cell_type": "code",
   "execution_count": 133,
   "metadata": {},
   "outputs": [
    {
     "data": {
      "text/plain": [
       "('0b10010110000', '10010110000')"
      ]
     },
     "execution_count": 133,
     "metadata": {},
     "output_type": "execute_result"
    },
    {
     "data": {
      "text/plain": [
       "('0o2260', '2260')"
      ]
     },
     "execution_count": 133,
     "metadata": {},
     "output_type": "execute_result"
    },
    {
     "data": {
      "text/plain": [
       "('0x4b0', '4b0')"
      ]
     },
     "execution_count": 133,
     "metadata": {},
     "output_type": "execute_result"
    },
    {
     "data": {
      "text/plain": [
       "1200"
      ]
     },
     "execution_count": 133,
     "metadata": {},
     "output_type": "execute_result"
    },
    {
     "data": {
      "text/plain": [
       "1200"
      ]
     },
     "execution_count": 133,
     "metadata": {},
     "output_type": "execute_result"
    },
    {
     "data": {
      "text/plain": [
       "1200"
      ]
     },
     "execution_count": 133,
     "metadata": {},
     "output_type": "execute_result"
    }
   ],
   "source": [
    "x = 1200\n",
    "\n",
    "# conv | format\n",
    "bin(x), format(x, 'b') \n",
    "oct(x), format(x, 'o')\n",
    "hex(x), format(x, 'x')\n",
    "\n",
    "# conv back\n",
    "int(bin(x), 2)\n",
    "int(oct(x), 8)\n",
    "int(hex(x), 16)"
   ]
  },
  {
   "cell_type": "code",
   "execution_count": 134,
   "metadata": {},
   "outputs": [
    {
     "data": {
      "text/plain": [
       "'-10011010010'"
      ]
     },
     "execution_count": 134,
     "metadata": {},
     "output_type": "execute_result"
    },
    {
     "data": {
      "text/plain": [
       "'-4d2'"
      ]
     },
     "execution_count": 134,
     "metadata": {},
     "output_type": "execute_result"
    },
    {
     "data": {
      "text/plain": [
       "'11111111111111111111101100101110'"
      ]
     },
     "execution_count": 134,
     "metadata": {},
     "output_type": "execute_result"
    },
    {
     "data": {
      "text/plain": [
       "'fffffb2e'"
      ]
     },
     "execution_count": 134,
     "metadata": {},
     "output_type": "execute_result"
    }
   ],
   "source": [
    "# neg-num\n",
    "format(-1234, 'b')\n",
    "format(-1234, 'x')\n",
    "\n",
    "# no-neg (unsigned)\n",
    "format(2 ** 32 + (-1234), 'b')\n",
    "format(2 ** 32 + (-1234), 'x')"
   ]
  },
  {
   "cell_type": "markdown",
   "metadata": {},
   "source": [
    "#### pack/unpack large integers (from bytes)"
   ]
  },
  {
   "cell_type": "code",
   "execution_count": 159,
   "metadata": {},
   "outputs": [
    {
     "data": {
      "text/plain": [
       "b'\\x01\\x02\\x03\\x04'"
      ]
     },
     "execution_count": 159,
     "metadata": {},
     "output_type": "execute_result"
    },
    {
     "data": {
      "text/plain": [
       "b'\\x04\\x03\\x02\\x01'"
      ]
     },
     "execution_count": 159,
     "metadata": {},
     "output_type": "execute_result"
    },
    {
     "data": {
      "text/plain": [
       "'little'"
      ]
     },
     "execution_count": 159,
     "metadata": {},
     "output_type": "execute_result"
    },
    {
     "data": {
      "text/plain": [
       "94522842520747284487117727783387188"
      ]
     },
     "execution_count": 159,
     "metadata": {},
     "output_type": "execute_result"
    },
    {
     "data": {
      "text/plain": [
       "69120565665751139577663547927094891008"
      ]
     },
     "execution_count": 159,
     "metadata": {},
     "output_type": "execute_result"
    },
    {
     "data": {
      "text/plain": [
       "b'\\x00\\x00\\x00\\x05\\xe9\\xad\\x84\\xc9'"
      ]
     },
     "execution_count": 159,
     "metadata": {},
     "output_type": "execute_result"
    },
    {
     "data": {
      "text/plain": [
       "b'\\xc9\\x84\\xad\\xe9\\x05\\x00\\x00\\x00'"
      ]
     },
     "execution_count": 159,
     "metadata": {},
     "output_type": "execute_result"
    }
   ],
   "source": [
    "from sys import byteorder\n",
    "\n",
    "# let's see the byteorder first \n",
    "x = 0x01020304\n",
    "x.to_bytes(4, 'big')\n",
    "x.to_bytes(4, 'little')\n",
    "\n",
    "# or.. \n",
    "byteorder\n",
    "\n",
    "\n",
    "# unpack \n",
    "\n",
    "larrrge = b'\\x00\\x124V\\x00x\\x90\\xab\\x00\\xcd\\xef\\x01\\x00#\\x004'\n",
    "int.from_bytes(larrrge, 'big')\n",
    "int.from_bytes(larrrge, 'little')  # default (well.. still need specifing)\n",
    "\n",
    "# and pack\n",
    "\n",
    "largeee = 25395299529\n",
    "largeee.to_bytes(8, 'big')\n",
    "largeee.to_bytes(8, 'little')"
   ]
  },
  {
   "cell_type": "markdown",
   "metadata": {},
   "source": [
    "#### complex num"
   ]
  },
  {
   "cell_type": "code",
   "execution_count": 181,
   "metadata": {},
   "outputs": [
    {
     "data": {
      "text/plain": [
       "(2.0, 4.0, (2-4j))"
      ]
     },
     "execution_count": 181,
     "metadata": {},
     "output_type": "execute_result"
    },
    {
     "data": {
      "text/plain": [
       "((5+5j), (-1+3j))"
      ]
     },
     "execution_count": 181,
     "metadata": {},
     "output_type": "execute_result"
    },
    {
     "data": {
      "text/plain": [
       "((2+14j), (0.9999999999999999+1j))"
      ]
     },
     "execution_count": 181,
     "metadata": {},
     "output_type": "execute_result"
    },
    {
     "data": {
      "text/plain": [
       "1j"
      ]
     },
     "execution_count": 181,
     "metadata": {},
     "output_type": "execute_result"
    },
    {
     "data": {
      "text/plain": [
       "((24.83130584894638-11.356612711218174j),\n",
       " (-11.36423470640106-24.814651485634187j),\n",
       " (-4.829809383269385-5.5920560936409816j))"
      ]
     },
     "execution_count": 181,
     "metadata": {},
     "output_type": "execute_result"
    },
    {
     "data": {
      "text/plain": [
       "array([ 4. +6.j,  8.+10.j, 12.-16.j])"
      ]
     },
     "execution_count": 181,
     "metadata": {},
     "output_type": "execute_result"
    },
    {
     "data": {
      "text/plain": [
       "array([0.+3.j, 2.+5.j, 4.-8.j])"
      ]
     },
     "execution_count": 181,
     "metadata": {},
     "output_type": "execute_result"
    },
    {
     "data": {
      "text/plain": [
       "array([   9.15449915   -4.16890696j,  -56.16227422  -48.50245524j,\n",
       "       -416.4629774 -1431.1134814j ])"
      ]
     },
     "execution_count": 181,
     "metadata": {},
     "output_type": "execute_result"
    }
   ],
   "source": [
    "import math \n",
    "import cmath \n",
    "import numpy \n",
    "\n",
    "\n",
    "a = complex(2, 4)\n",
    "b = complex(3, 1)\n",
    "\n",
    "# attr\n",
    "a.real, a.imag, a.conjugate()\n",
    "\n",
    "# arithmetic\n",
    "a + b, a - b\n",
    "a * b, a / b\n",
    "\n",
    "# about -1 \n",
    "try:\n",
    "    math.sqrt(-1)\n",
    "except ValueError:\n",
    "    cmath.sqrt(-1)\n",
    "\n",
    "# cos, sin, tan \n",
    "cmath.sin(a), cmath.cos(a), cmath.exp(a)\n",
    "\n",
    "# with numpy \n",
    "num = numpy.array([2 + 3j, 4 + 5j, 6 - 8j])\n",
    "num * 2 \n",
    "num - 2\n",
    "numpy.sin(num)"
   ]
  },
  {
   "cell_type": "markdown",
   "metadata": {},
   "source": [
    "#### NaN & Infinity"
   ]
  },
  {
   "cell_type": "code",
   "execution_count": 192,
   "metadata": {},
   "outputs": [
    {
     "data": {
      "text/plain": [
       "' create '"
      ]
     },
     "execution_count": 192,
     "metadata": {},
     "output_type": "execute_result"
    }
   ],
   "source": [
    "''' create '''\n",
    "\n",
    "# NaN \n",
    "n1 = float('nan')\n",
    "n2 = float('Nan')\n",
    "n3 = float('-NaN')\n",
    "\n",
    "# Infinity \n",
    "i1 = float('-inf')\n",
    "i2 = float('Infinity')\n",
    "i3 = float('-infinity')\n",
    "\n",
    "\n",
    "''' identify '''\n",
    "\n",
    "from math import isnan, isinf \n",
    "\n",
    "for i in [n1, n2, n3]:\n",
    "    isnan(i)\n",
    "    \n",
    "for i in [i1, i2, i3]:\n",
    "    isinf(i)"
   ]
  },
  {
   "cell_type": "code",
   "execution_count": 210,
   "metadata": {},
   "outputs": [
    {
     "data": {
      "text/plain": [
       "' nan, inf will propagate in calculations.\\n'"
      ]
     },
     "execution_count": 210,
     "metadata": {},
     "output_type": "execute_result"
    },
    {
     "data": {
      "text/plain": [
       "(inf, inf)"
      ]
     },
     "execution_count": 210,
     "metadata": {},
     "output_type": "execute_result"
    },
    {
     "data": {
      "text/plain": [
       "(nan, nan)"
      ]
     },
     "execution_count": 210,
     "metadata": {},
     "output_type": "execute_result"
    },
    {
     "data": {
      "text/plain": [
       "nan"
      ]
     },
     "execution_count": 210,
     "metadata": {},
     "output_type": "execute_result"
    },
    {
     "data": {
      "text/plain": [
       "nan"
      ]
     },
     "execution_count": 210,
     "metadata": {},
     "output_type": "execute_result"
    },
    {
     "data": {
      "text/plain": [
       "False"
      ]
     },
     "execution_count": 210,
     "metadata": {},
     "output_type": "execute_result"
    }
   ],
   "source": [
    "''' nan, inf will propagate in calculations.\n",
    "'''\n",
    "\n",
    "# inf \n",
    "inff = float('inf')\n",
    "inff + 1, inff * 10\n",
    "\n",
    "# nan    \n",
    "c = float('nan')\n",
    "c + 1, c - 1\n",
    "\n",
    "# nan - certain opt\n",
    "float('inf') / float('inf')    \n",
    "float('+inf') + float('-inf')  \n",
    "\n",
    "# nan - not equals to itself \n",
    "float('nan') == float('nan')"
   ]
  },
  {
   "cell_type": "markdown",
   "metadata": {},
   "source": [
    "#### fraction"
   ]
  },
  {
   "cell_type": "code",
   "execution_count": 228,
   "metadata": {},
   "outputs": [
    {
     "data": {
      "text/plain": [
       "1"
      ]
     },
     "execution_count": 228,
     "metadata": {},
     "output_type": "execute_result"
    },
    {
     "data": {
      "text/plain": [
       "2"
      ]
     },
     "execution_count": 228,
     "metadata": {},
     "output_type": "execute_result"
    },
    {
     "data": {
      "text/plain": [
       "(Fraction(19, 14), Fraction(-5, 14))"
      ]
     },
     "execution_count": 228,
     "metadata": {},
     "output_type": "execute_result"
    },
    {
     "data": {
      "text/plain": [
       "(Fraction(3, 7), Fraction(7, 12))"
      ]
     },
     "execution_count": 228,
     "metadata": {},
     "output_type": "execute_result"
    },
    {
     "data": {
      "text/plain": [
       "Fraction(17, 10)"
      ]
     },
     "execution_count": 228,
     "metadata": {},
     "output_type": "execute_result"
    },
    {
     "data": {
      "text/plain": [
       "0.5"
      ]
     },
     "execution_count": 228,
     "metadata": {},
     "output_type": "execute_result"
    },
    {
     "data": {
      "text/plain": [
       "0.8571428571428571"
      ]
     },
     "execution_count": 228,
     "metadata": {},
     "output_type": "execute_result"
    },
    {
     "data": {
      "text/plain": [
       "Fraction(3000523251735593, 562949953421312)"
      ]
     },
     "execution_count": 228,
     "metadata": {},
     "output_type": "execute_result"
    }
   ],
   "source": [
    "from fractions import Fraction as F\n",
    "\n",
    "a = F(1, 2)\n",
    "b = F(6, 7)\n",
    "\n",
    "a.numerator\n",
    "a.denominator\n",
    "\n",
    "a + b, a - b\n",
    "a * b, a / b\n",
    "\n",
    "F(34, 20).limit_denominator(10)\n",
    "\n",
    "# frac to float \n",
    "float(a)\n",
    "float(b)\n",
    "\n",
    "# conv float to frac\n",
    "flt_num = 5.33\n",
    "F(\n",
    "    *flt_num.as_integer_ratio()\n",
    ")"
   ]
  },
  {
   "cell_type": "markdown",
   "metadata": {},
   "source": [
    "#### calc with *NumPy*"
   ]
  },
  {
   "cell_type": "code",
   "execution_count": 239,
   "metadata": {},
   "outputs": [
    {
     "data": {
      "text/plain": [
       "array([ 5, 12, 21, 32])"
      ]
     },
     "execution_count": 239,
     "metadata": {},
     "output_type": "execute_result"
    },
    {
     "data": {
      "text/plain": [
       "array([0.2       , 0.33333333, 0.42857143, 0.5       ])"
      ]
     },
     "execution_count": 239,
     "metadata": {},
     "output_type": "execute_result"
    },
    {
     "data": {
      "text/plain": [
       "array([ 1,  8, 27, 64])"
      ]
     },
     "execution_count": 239,
     "metadata": {},
     "output_type": "execute_result"
    },
    {
     "data": {
      "text/plain": [
       "array([1.        , 1.41421356, 1.73205081, 2.        ])"
      ]
     },
     "execution_count": 239,
     "metadata": {},
     "output_type": "execute_result"
    },
    {
     "data": {
      "text/plain": [
       "array([0.        , 0.30103   , 0.47712125, 0.60205999])"
      ]
     },
     "execution_count": 239,
     "metadata": {},
     "output_type": "execute_result"
    },
    {
     "data": {
      "text/plain": [
       "array([[0., 0., 0., ..., 0., 0., 0.],\n",
       "       [0., 0., 0., ..., 0., 0., 0.],\n",
       "       [0., 0., 0., ..., 0., 0., 0.],\n",
       "       ...,\n",
       "       [0., 0., 0., ..., 0., 0., 0.],\n",
       "       [0., 0., 0., ..., 0., 0., 0.],\n",
       "       [0., 0., 0., ..., 0., 0., 0.]])"
      ]
     },
     "execution_count": 239,
     "metadata": {},
     "output_type": "execute_result"
    }
   ],
   "source": [
    "import numpy as np\n",
    "\n",
    "na = np.array([1, 2, 3, 4])\n",
    "nb = np.array([5, 6, 7, 8])\n",
    "\n",
    "# apply to each one \n",
    "na * nb \n",
    "na / nb\n",
    "\n",
    "# func as well \n",
    "thrib = lambda x: x**3\n",
    "thrib(na)\n",
    "\n",
    "# math func \n",
    "np.sqrt(na)\n",
    "np.log10(na)\n",
    "\n",
    "# large array \n",
    "np.zeros(shape=(10000, 10000), dtype=float)"
   ]
  },
  {
   "cell_type": "code",
   "execution_count": 251,
   "metadata": {},
   "outputs": [
    {
     "data": {
      "text/plain": [
       "matrix([[ 1,  4,  7],\n",
       "        [-2, -3,  8],\n",
       "        [ 3,  6,  9]])"
      ]
     },
     "execution_count": 251,
     "metadata": {},
     "output_type": "execute_result"
    },
    {
     "data": {
      "text/plain": [
       "matrix([[-1.04166667,  0.58333333, -0.04166667],\n",
       "        [ 0.08333333, -0.16666667,  0.08333333],\n",
       "        [ 0.73611111, -0.30555556,  0.06944444]])"
      ]
     },
     "execution_count": 251,
     "metadata": {},
     "output_type": "execute_result"
    },
    {
     "data": {
      "text/plain": [
       "matrix([[ 8],\n",
       "        [23],\n",
       "        [74]])"
      ]
     },
     "execution_count": 251,
     "metadata": {},
     "output_type": "execute_result"
    },
    {
     "data": {
      "text/plain": [
       "72.0"
      ]
     },
     "execution_count": 251,
     "metadata": {},
     "output_type": "execute_result"
    },
    {
     "data": {
      "text/plain": [
       "array([13.47955031, -0.96937462, -5.51017569])"
      ]
     },
     "execution_count": 251,
     "metadata": {},
     "output_type": "execute_result"
    },
    {
     "data": {
      "text/plain": [
       "matrix([[-0.5       ],\n",
       "        [-0.        ],\n",
       "        [ 0.83333333]])"
      ]
     },
     "execution_count": 251,
     "metadata": {},
     "output_type": "execute_result"
    }
   ],
   "source": [
    "m = np.matrix([\n",
    "    [1, -2, 3],\n",
    "    [4, -3, 6],\n",
    "    [7,  8, 9],\n",
    "])\n",
    "\n",
    "m.T \n",
    "m.I; \n",
    "\n",
    "v = np.matrix([\n",
    "    [2], \n",
    "    [3],\n",
    "    [4],\n",
    "])\n",
    "\n",
    "m * v\n",
    "\n",
    "\n",
    "np.linalg.det(m)\n",
    "np.linalg.eigvals(m)\n",
    "np.linalg.solve(m, v)"
   ]
  },
  {
   "cell_type": "markdown",
   "metadata": {},
   "source": [
    "#### rand num"
   ]
  },
  {
   "cell_type": "code",
   "execution_count": 292,
   "metadata": {},
   "outputs": [
    {
     "data": {
      "text/plain": [
       "(5, 2, 1)"
      ]
     },
     "execution_count": 292,
     "metadata": {},
     "output_type": "execute_result"
    },
    {
     "data": {
      "text/plain": [
       "([2, 1, 5], [6, 2, 4, 3, 1, 5])"
      ]
     },
     "execution_count": 292,
     "metadata": {},
     "output_type": "execute_result"
    },
    {
     "data": {
      "text/plain": [
       "('changed: ', [6, 2, 1, 3, 4, 5])"
      ]
     },
     "execution_count": 292,
     "metadata": {},
     "output_type": "execute_result"
    },
    {
     "data": {
      "text/plain": [
       "0"
      ]
     },
     "execution_count": 292,
     "metadata": {},
     "output_type": "execute_result"
    },
    {
     "data": {
      "text/plain": [
       "0.42677294921587583"
      ]
     },
     "execution_count": 292,
     "metadata": {},
     "output_type": "execute_result"
    },
    {
     "data": {
      "text/plain": [
       "958761442417944"
      ]
     },
     "execution_count": 292,
     "metadata": {},
     "output_type": "execute_result"
    }
   ],
   "source": [
    "import random as rd\n",
    "\n",
    "val = [1, 2, 3, 4, 5, 6]\n",
    "\n",
    "rd.choice(val),\\\n",
    "rd.choice(val),\\\n",
    "rd.choice(val)\n",
    "\n",
    "rd.sample(val, 3),\\\n",
    "rd.sample(val, 6)  # !> len(val)\n",
    "\n",
    "rd.shuffle(val)    # rand the list in-place \n",
    "'changed: ', val\n",
    "\n",
    "rd.randint(0, 10)  # [ 0, 10 ]\n",
    "\n",
    "rd.random()        # [ 0.0, 1.0 )\n",
    "\n",
    "rd.getrandbits(50) # (bin|int)\n",
    "\n",
    "rd.seed()          # init seed \n",
    "rd.seed(b'walala') # init seed (again)"
   ]
  },
  {
   "cell_type": "markdown",
   "metadata": {},
   "source": [
    "#### basic time conv"
   ]
  },
  {
   "cell_type": "code",
   "execution_count": 337,
   "metadata": {},
   "outputs": [
    {
     "data": {
      "text/plain": [
       "datetime.timedelta(3, 18000)"
      ]
     },
     "execution_count": 337,
     "metadata": {},
     "output_type": "execute_result"
    },
    {
     "data": {
      "text/plain": [
       "3"
      ]
     },
     "execution_count": 337,
     "metadata": {},
     "output_type": "execute_result"
    },
    {
     "data": {
      "text/plain": [
       "18000"
      ]
     },
     "execution_count": 337,
     "metadata": {},
     "output_type": "execute_result"
    },
    {
     "data": {
      "text/plain": [
       "277200.0"
      ]
     },
     "execution_count": 337,
     "metadata": {},
     "output_type": "execute_result"
    },
    {
     "data": {
      "text/plain": [
       "datetime.datetime(2015, 8, 31, 0, 0)"
      ]
     },
     "execution_count": 337,
     "metadata": {},
     "output_type": "execute_result"
    },
    {
     "data": {
      "text/plain": [
       "datetime.datetime(2015, 12, 9, 0, 0)"
      ]
     },
     "execution_count": 337,
     "metadata": {},
     "output_type": "execute_result"
    },
    {
     "data": {
      "text/plain": [
       "datetime.datetime(2018, 7, 31, 18, 26, 51, 318599)"
      ]
     },
     "execution_count": 337,
     "metadata": {},
     "output_type": "execute_result"
    },
    {
     "data": {
      "text/plain": [
       "datetime.datetime(2018, 8, 31, 18, 26, 51, 318599)"
      ]
     },
     "execution_count": 337,
     "metadata": {},
     "output_type": "execute_result"
    }
   ],
   "source": [
    "from datetime import (\n",
    "    timedelta, datetime \n",
    ")\n",
    "\n",
    "# --- timedelta ---\n",
    "\n",
    "s = timedelta(days=3, hours=5)\n",
    "\n",
    "s\n",
    "s.days\n",
    "s.seconds\n",
    "s.total_seconds()\n",
    "\n",
    "# --- datetime ---  \n",
    "\n",
    "start = datetime(2015, 8, 31)\n",
    "\n",
    "start\n",
    "start + timedelta(days=100)\n",
    "\n",
    "# --- today --- \n",
    "\n",
    "now = datetime.today()\n",
    "\n",
    "now\n",
    "now + timedelta(days=31)"
   ]
  },
  {
   "cell_type": "code",
   "execution_count": 349,
   "metadata": {},
   "outputs": [
    {
     "data": {
      "text/plain": [
       "datetime.timedelta(1)"
      ]
     },
     "execution_count": 349,
     "metadata": {},
     "output_type": "execute_result"
    },
    {
     "data": {
      "text/plain": [
       "datetime.timedelta(1)"
      ]
     },
     "execution_count": 349,
     "metadata": {},
     "output_type": "execute_result"
    },
    {
     "data": {
      "text/plain": [
       "datetime.timedelta(182, 19369, 234213)"
      ]
     },
     "execution_count": 349,
     "metadata": {},
     "output_type": "execute_result"
    },
    {
     "data": {
      "text/plain": [
       "182"
      ]
     },
     "execution_count": 349,
     "metadata": {},
     "output_type": "execute_result"
    },
    {
     "data": {
      "text/plain": [
       "datetime.datetime(2012, 12, 21, 9, 30)"
      ]
     },
     "execution_count": 349,
     "metadata": {},
     "output_type": "execute_result"
    },
    {
     "data": {
      "text/plain": [
       "datetime.datetime(2012, 12, 21, 9, 30, tzinfo=<DstTzInfo 'US/Central' CST-1 day, 18:00:00 STD>)"
      ]
     },
     "execution_count": 349,
     "metadata": {},
     "output_type": "execute_result"
    },
    {
     "data": {
      "text/plain": [
       "datetime.datetime(2012, 12, 21, 23, 30, tzinfo=<DstTzInfo 'Asia/Shanghai' CST+8:00:00 STD>)"
      ]
     },
     "execution_count": 349,
     "metadata": {},
     "output_type": "execute_result"
    },
    {
     "data": {
      "text/plain": [
       "datetime.datetime(2012, 12, 21, 9, 30)"
      ]
     },
     "execution_count": 349,
     "metadata": {},
     "output_type": "execute_result"
    },
    {
     "data": {
      "text/plain": [
       "datetime.datetime(2012, 12, 21, 1, 30, tzinfo=<UTC>)"
      ]
     },
     "execution_count": 349,
     "metadata": {},
     "output_type": "execute_result"
    }
   ],
   "source": [
    "from datetime import datetime \n",
    "from pytz import timezone, utc  # use other modules instead!\n",
    "\n",
    "# --- leap years --- \n",
    "\n",
    "datetime(2000, 3, 1) - datetime(2000, 2, 29) \n",
    "datetime(2015, 3, 1) - datetime(2015, 2, 28)\n",
    "\n",
    "# --- str to date --- \n",
    "\n",
    "fut = datetime.strptime('2019-6-30', '%Y-%M-%d')\n",
    "now = datetime.now()\n",
    "\n",
    "(fut - now)\n",
    "(fut - now).days\n",
    "\n",
    "# --- timezone --- \n",
    "\n",
    "date     = datetime(2012, 12, 21, 9, 30, 0)\n",
    "date_loc = timezone('US/Central').localize(a_date)\n",
    "\n",
    "date\n",
    "date_loc\n",
    "\n",
    "date_trans_again = a_date_loc.astimezone(timezone('Asia/Shanghai'))\n",
    "date_trans_again\n",
    "\n",
    "# --- timezone: UTC --- \n",
    "\n",
    "date\n",
    "date.astimezone(utc)"
   ]
  },
  {
   "cell_type": "code",
   "execution_count": null,
   "metadata": {},
   "outputs": [],
   "source": []
  }
 ],
 "metadata": {
  "kernelspec": {
   "display_name": "Python 3",
   "language": "python",
   "name": "python3"
  },
  "language_info": {
   "codemirror_mode": {
    "name": "ipython",
    "version": 3
   },
   "file_extension": ".py",
   "mimetype": "text/x-python",
   "name": "python",
   "nbconvert_exporter": "python",
   "pygments_lexer": "ipython3",
   "version": "3.6.5"
  }
 },
 "nbformat": 4,
 "nbformat_minor": 2
}
