{
 "cells": [
  {
   "cell_type": "markdown",
   "metadata": {},
   "source": [
    "鏈接在此: [link](https://python-cookbook-3rd-edition.readthedocs.io/zh_CN/latest/c01/p01_unpack_sequence_into_separate_variables.html)"
   ]
  },
  {
   "cell_type": "markdown",
   "metadata": {},
   "source": [
    "#### slice - naming slice"
   ]
  },
  {
   "cell_type": "code",
   "execution_count": 2,
   "metadata": {},
   "outputs": [
    {
     "data": {
      "text/plain": [
       "'01234567890'"
      ]
     },
     "execution_count": 2,
     "metadata": {},
     "output_type": "execute_result"
    },
    {
     "data": {
      "text/plain": [
       "<function slice.indices>"
      ]
     },
     "execution_count": 2,
     "metadata": {},
     "output_type": "execute_result"
    },
    {
     "data": {
      "text/plain": [
       "(6, 17, 1)"
      ]
     },
     "execution_count": 2,
     "metadata": {},
     "output_type": "execute_result"
    }
   ],
   "source": [
    "a = \"######0123456789012345678901234567890123456789012345678901234567890\"\n",
    "\n",
    "# just like a[6,17]\n",
    "# but created as an object \n",
    "pick_natural_num = slice(6,17,1)\n",
    "\n",
    "# readability!\n",
    "a[pick_natural_num]\n",
    "\n",
    "# it's even got Attributes!\n",
    "pick_natural_num.indices\n",
    "pick_natural_num.start, pick_natural_num.stop, pick_natural_num.step"
   ]
  },
  {
   "cell_type": "code",
   "execution_count": 3,
   "metadata": {},
   "outputs": [
    {
     "data": {
      "text/plain": [
       "slice(0, 50, 1)"
      ]
     },
     "execution_count": 3,
     "metadata": {},
     "output_type": "execute_result"
    },
    {
     "data": {
      "text/plain": [
       "(0, 5, 1)"
      ]
     },
     "execution_count": 3,
     "metadata": {},
     "output_type": "execute_result"
    },
    {
     "data": {
      "text/plain": [
       "slice(0, 5, 1)"
      ]
     },
     "execution_count": 3,
     "metadata": {},
     "output_type": "execute_result"
    },
    {
     "name": "stdout",
     "output_type": "stream",
     "text": [
      "H\te\tl\tl\to\t"
     ]
    }
   ],
   "source": [
    "a = 'Hello'\n",
    "\n",
    "obj = slice(0, 50, 1)\n",
    "\n",
    "obj                       # slice\n",
    "obj.indices(len(a))       # tuple \n",
    "\n",
    "slice(\n",
    "    *obj.indices(len(a))  # conv 'indice' to 'slice'\n",
    ")\n",
    "\n",
    "# actual usage \n",
    "for i in range(*obj.indices(len('Hello'))):\n",
    "    print(a[i],end='\\t')"
   ]
  },
  {
   "cell_type": "markdown",
   "metadata": {},
   "source": [
    "#### Counter - most common elements"
   ]
  },
  {
   "cell_type": "code",
   "execution_count": 4,
   "metadata": {},
   "outputs": [],
   "source": [
    "words = [\n",
    "    'look','eyes','the', 'eyes', 'the', 'eyes',\n",
    "    'eyes', \"don't\", 'under', 'not', 'around', 'the'\n",
    "]"
   ]
  },
  {
   "cell_type": "code",
   "execution_count": 5,
   "metadata": {},
   "outputs": [
    {
     "data": {
      "text/plain": [
       "Counter({'look': 1,\n",
       "         'eyes': 4,\n",
       "         'the': 3,\n",
       "         \"don't\": 1,\n",
       "         'under': 1,\n",
       "         'not': 1,\n",
       "         'around': 1})"
      ]
     },
     "execution_count": 5,
     "metadata": {},
     "output_type": "execute_result"
    },
    {
     "data": {
      "text/plain": [
       "[('eyes', 4), ('the', 3)]"
      ]
     },
     "execution_count": 5,
     "metadata": {},
     "output_type": "execute_result"
    },
    {
     "data": {
      "text/plain": [
       "(1, 4)"
      ]
     },
     "execution_count": 5,
     "metadata": {},
     "output_type": "execute_result"
    },
    {
     "data": {
      "text/plain": [
       "(3, 6)"
      ]
     },
     "execution_count": 5,
     "metadata": {},
     "output_type": "execute_result"
    }
   ],
   "source": [
    "from collections import Counter \n",
    "\n",
    "word_cnt = Counter(words)\n",
    "\n",
    "word_cnt\n",
    "word_cnt.most_common(2)\n",
    "\n",
    "def hey():\n",
    "    word_cnt.items()\n",
    "    word_cnt.keys()\n",
    "    word_cnt.values()\n",
    "\n",
    "# and these \n",
    "word_cnt['not'], word_cnt['eyes']  # 1,4 \n",
    "\n",
    "# add counting results \n",
    "more_words = ['crap','not','eyes'] # 2,5\n",
    "for w in more_words:\n",
    "    word_cnt[w] += 1 \n",
    "    \n",
    "# or using update \n",
    "word_cnt.update(more_words)        # 3,6 -- add again! \n",
    "     \n",
    "word_cnt['not'], word_cnt['eyes']"
   ]
  },
  {
   "cell_type": "code",
   "execution_count": 6,
   "metadata": {},
   "outputs": [
    {
     "data": {
      "text/plain": [
       "Counter({'look': 1,\n",
       "         'eyes': 5,\n",
       "         'the': 3,\n",
       "         \"don't\": 1,\n",
       "         'under': 1,\n",
       "         'not': 2,\n",
       "         'around': 1,\n",
       "         'crap': 1})"
      ]
     },
     "execution_count": 6,
     "metadata": {},
     "output_type": "execute_result"
    },
    {
     "data": {
      "text/plain": [
       "Counter({'look': 1, 'eyes': 3, 'the': 3, \"don't\": 1, 'under': 1, 'around': 1})"
      ]
     },
     "execution_count": 6,
     "metadata": {},
     "output_type": "execute_result"
    },
    {
     "data": {
      "text/plain": [
       "Counter({'crap': 1})"
      ]
     },
     "execution_count": 6,
     "metadata": {},
     "output_type": "execute_result"
    },
    {
     "data": {
      "text/plain": [
       "Counter({'eyes': 1, 'not': 1})"
      ]
     },
     "execution_count": 6,
     "metadata": {},
     "output_type": "execute_result"
    }
   ],
   "source": [
    "word      = words       # above \n",
    "word_more = more_words  # above \n",
    "\n",
    "a = Counter(word)\n",
    "b = Counter(word_more)\n",
    "\n",
    "# You're able to do arithmetic on it!!\n",
    "a + b \n",
    "a - b\n",
    "b - a\n",
    "a & b"
   ]
  },
  {
   "cell_type": "markdown",
   "metadata": {},
   "source": [
    "#### itemgetter - sort dict by giving key"
   ]
  },
  {
   "cell_type": "code",
   "execution_count": 7,
   "metadata": {},
   "outputs": [
    {
     "data": {
      "text/plain": [
       "1"
      ]
     },
     "execution_count": 7,
     "metadata": {},
     "output_type": "execute_result"
    },
    {
     "data": {
      "text/plain": [
       "(1, 4)"
      ]
     },
     "execution_count": 7,
     "metadata": {},
     "output_type": "execute_result"
    }
   ],
   "source": [
    "from operator import itemgetter\n",
    "\n",
    "\n",
    "# Basis\n",
    "\n",
    "func_pick_one  = itemgetter(0)\n",
    "func_pick_more = itemgetter(0,-1)\n",
    "\n",
    "func_pick_one(\n",
    "    [1,2,3,4]\n",
    ")\n",
    "\n",
    "func_pick_more(\n",
    "    [1,2,3,4]\n",
    ")"
   ]
  },
  {
   "cell_type": "code",
   "execution_count": 8,
   "metadata": {},
   "outputs": [],
   "source": [
    "rows = [\n",
    "    {'fname': 'Brian', 'uid': 1003},\n",
    "    {'fname': 'David', 'uid': 1004},\n",
    "    {'fname': 'John', 'uid': 1001},\n",
    "    {'fname': 'Big', 'uid': 1002}\n",
    "]"
   ]
  },
  {
   "cell_type": "code",
   "execution_count": 9,
   "metadata": {},
   "outputs": [
    {
     "data": {
      "text/plain": [
       "[{'fname': 'John', 'uid': 1001},\n",
       " {'fname': 'Big', 'uid': 1002},\n",
       " {'fname': 'Brian', 'uid': 1003},\n",
       " {'fname': 'David', 'uid': 1004}]"
      ]
     },
     "execution_count": 9,
     "metadata": {},
     "output_type": "execute_result"
    },
    {
     "data": {
      "text/plain": [
       "[{'fname': 'John', 'uid': 1001},\n",
       " {'fname': 'Big', 'uid': 1002},\n",
       " {'fname': 'Brian', 'uid': 1003},\n",
       " {'fname': 'David', 'uid': 1004}]"
      ]
     },
     "execution_count": 9,
     "metadata": {},
     "output_type": "execute_result"
    },
    {
     "data": {
      "text/plain": [
       "{'fname': 'John', 'uid': 1001}"
      ]
     },
     "execution_count": 9,
     "metadata": {},
     "output_type": "execute_result"
    },
    {
     "data": {
      "text/plain": [
       "{'fname': 'David', 'uid': 1004}"
      ]
     },
     "execution_count": 9,
     "metadata": {},
     "output_type": "execute_result"
    }
   ],
   "source": [
    "# this one is faster than 'lambda'\n",
    "by_fname_ig = sorted(rows, key=itemgetter('uid'))\n",
    "by_fname_ig\n",
    "\n",
    "by_fname_lm = sorted(rows, key=lambda r: r['uid'])\n",
    "by_fname_lm\n",
    "\n",
    "# also, there's max/min\n",
    "min(rows, key=itemgetter('uid'))\n",
    "max(rows, key=itemgetter('uid'))"
   ]
  },
  {
   "cell_type": "markdown",
   "metadata": {},
   "source": [
    "#### attrgetter - sort 'cannot be sorted'"
   ]
  },
  {
   "cell_type": "code",
   "execution_count": 10,
   "metadata": {},
   "outputs": [],
   "source": [
    "class User:\n",
    "    def __init__(self, user_id,name='xxx'):\n",
    "        self.user_id = user_id \n",
    "        self.name = name\n",
    "    \n",
    "    def __repr__(self):\n",
    "        return 'User({})'.format(self.user_id)\n",
    "    \n",
    "    \n",
    "users = [User(40), User(12), User(27)]"
   ]
  },
  {
   "cell_type": "code",
   "execution_count": 11,
   "metadata": {},
   "outputs": [
    {
     "data": {
      "text/plain": [
       "[40, 12, 27]"
      ]
     },
     "execution_count": 11,
     "metadata": {},
     "output_type": "execute_result"
    },
    {
     "data": {
      "text/plain": [
       "[(40, 'xxx'), (12, 'xxx'), (27, 'xxx')]"
      ]
     },
     "execution_count": 11,
     "metadata": {},
     "output_type": "execute_result"
    }
   ],
   "source": [
    "from operator import attrgetter\n",
    "\n",
    "\n",
    "# attrgetter basis \n",
    "\n",
    "dict_pick_one  = attrgetter('user_id')\n",
    "dict_pick_more = attrgetter('user_id','name')\n",
    "\n",
    "[dict_pick_one(i) for i in users ]  # each elem call its 'User(xx).user_id'\n",
    "[ dict_pick_more(i) for i in users] # more than one, '.user_id' & '.name' "
   ]
  },
  {
   "cell_type": "code",
   "execution_count": 12,
   "metadata": {},
   "outputs": [
    {
     "data": {
      "text/plain": [
       "[User(12), User(27), User(40)]"
      ]
     },
     "execution_count": 12,
     "metadata": {},
     "output_type": "execute_result"
    },
    {
     "data": {
      "text/plain": [
       "[User(12), User(27), User(40)]"
      ]
     },
     "execution_count": 12,
     "metadata": {},
     "output_type": "execute_result"
    },
    {
     "data": {
      "text/plain": [
       "User(12)"
      ]
     },
     "execution_count": 12,
     "metadata": {},
     "output_type": "execute_result"
    },
    {
     "data": {
      "text/plain": [
       "User(40)"
      ]
     },
     "execution_count": 12,
     "metadata": {},
     "output_type": "execute_result"
    }
   ],
   "source": [
    "sorted(\n",
    "    users,\n",
    "    key=attrgetter('user_id') # still, this one is faster than 'lambda'\n",
    ")\n",
    "\n",
    "sorted(\n",
    "    users, \n",
    "    key=lambda u: u.user_id   # User - (self) - user_id\n",
    ")\n",
    "\n",
    "\n",
    "# and.. max/min are supported \n",
    "\n",
    "min(\n",
    "    users,\n",
    "    key=attrgetter('user_id')\n",
    ")\n",
    "\n",
    "max(\n",
    "    users,\n",
    "    key=attrgetter('user_id')\n",
    ")"
   ]
  },
  {
   "cell_type": "code",
   "execution_count": null,
   "metadata": {},
   "outputs": [],
   "source": []
  },
  {
   "cell_type": "markdown",
   "metadata": {},
   "source": []
  }
 ],
 "metadata": {
  "kernelspec": {
   "display_name": "Python 3",
   "language": "python",
   "name": "python3"
  },
  "language_info": {
   "codemirror_mode": {
    "name": "ipython",
    "version": 3
   },
   "file_extension": ".py",
   "mimetype": "text/x-python",
   "name": "python",
   "nbconvert_exporter": "python",
   "pygments_lexer": "ipython3",
   "version": "3.6.5"
  }
 },
 "nbformat": 4,
 "nbformat_minor": 2
}
