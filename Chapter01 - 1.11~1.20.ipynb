{
 "cells": [
  {
   "cell_type": "markdown",
   "metadata": {},
   "source": [
    "鏈接在此: [link](https://python-cookbook-3rd-edition.readthedocs.io/zh_CN/latest/c01/p01_unpack_sequence_into_separate_variables.html)"
   ]
  },
  {
   "cell_type": "markdown",
   "metadata": {},
   "source": [
    "#### slice - naming slice"
   ]
  },
  {
   "cell_type": "code",
   "execution_count": 1,
   "metadata": {},
   "outputs": [
    {
     "data": {
      "text/plain": [
       "'01234567890'"
      ]
     },
     "execution_count": 1,
     "metadata": {},
     "output_type": "execute_result"
    },
    {
     "data": {
      "text/plain": [
       "<function slice.indices>"
      ]
     },
     "execution_count": 1,
     "metadata": {},
     "output_type": "execute_result"
    },
    {
     "data": {
      "text/plain": [
       "(6, 17, 1)"
      ]
     },
     "execution_count": 1,
     "metadata": {},
     "output_type": "execute_result"
    }
   ],
   "source": [
    "a = \"######0123456789012345678901234567890123456789012345678901234567890\"\n",
    "\n",
    "# just like a[6,17]\n",
    "#   but created as an object \n",
    "pick_natural_num = slice(6,17,1)\n",
    "\n",
    "# readability!\n",
    "a[pick_natural_num]\n",
    "\n",
    "# she's even got attrs!\n",
    "pick_natural_num.indices\n",
    "pick_natural_num.start, pick_natural_num.stop, pick_natural_num.step"
   ]
  },
  {
   "cell_type": "code",
   "execution_count": 2,
   "metadata": {},
   "outputs": [
    {
     "data": {
      "text/plain": [
       "slice(0, 50, 1)"
      ]
     },
     "execution_count": 2,
     "metadata": {},
     "output_type": "execute_result"
    },
    {
     "data": {
      "text/plain": [
       "(0, 5, 1)"
      ]
     },
     "execution_count": 2,
     "metadata": {},
     "output_type": "execute_result"
    },
    {
     "data": {
      "text/plain": [
       "slice(0, 5, 1)"
      ]
     },
     "execution_count": 2,
     "metadata": {},
     "output_type": "execute_result"
    },
    {
     "name": "stdout",
     "output_type": "stream",
     "text": [
      "H\te\tl\tl\to\t"
     ]
    }
   ],
   "source": [
    "a = 'Hello'\n",
    "\n",
    "obj = slice(0, 50, 1)\n",
    "\n",
    "obj                       # slice\n",
    "obj.indices(len(a))       # tuple \n",
    "\n",
    "slice(\n",
    "    *obj.indices(len(a))  # conv 'indice' to 'slice'\n",
    ")\n",
    "\n",
    "# usage\n",
    "for i in range(*obj.indices(len('Hello'))):\n",
    "    print(a[i],end='\\t')"
   ]
  },
  {
   "cell_type": "markdown",
   "metadata": {},
   "source": [
    "#### Counter - most common elements"
   ]
  },
  {
   "cell_type": "code",
   "execution_count": 3,
   "metadata": {},
   "outputs": [],
   "source": [
    "from collections import Counter "
   ]
  },
  {
   "cell_type": "code",
   "execution_count": 4,
   "metadata": {},
   "outputs": [
    {
     "data": {
      "text/plain": [
       "Counter({'look': 1,\n",
       "         'eyes': 4,\n",
       "         'the': 3,\n",
       "         \"don't\": 1,\n",
       "         'under': 1,\n",
       "         'not': 1,\n",
       "         'around': 1})"
      ]
     },
     "execution_count": 4,
     "metadata": {},
     "output_type": "execute_result"
    },
    {
     "data": {
      "text/plain": [
       "[('eyes', 4), ('the', 3)]"
      ]
     },
     "execution_count": 4,
     "metadata": {},
     "output_type": "execute_result"
    },
    {
     "data": {
      "text/plain": [
       "(1, 4)"
      ]
     },
     "execution_count": 4,
     "metadata": {},
     "output_type": "execute_result"
    }
   ],
   "source": [
    "words = [\n",
    "    'look','eyes','the', 'eyes', 'the', 'eyes',\n",
    "    'eyes', \"don't\", 'under', 'not', 'around', 'the'\n",
    "]\n",
    "\n",
    "word_cnt = Counter(words)\n",
    "\n",
    "word_cnt                 # freq \n",
    "word_cnt.most_common(2)  # freq - first two\n",
    "\n",
    "def hey():\n",
    "    ''' u're able to access these'''\n",
    "    word_cnt.items()\n",
    "    word_cnt.keys()\n",
    "    word_cnt.values()\n",
    "\n",
    "# and these \n",
    "word_cnt['not'], word_cnt['eyes']  # >> 1, 4 "
   ]
  },
  {
   "cell_type": "code",
   "execution_count": 5,
   "metadata": {},
   "outputs": [
    {
     "data": {
      "text/plain": [
       "(3, 6)"
      ]
     },
     "execution_count": 5,
     "metadata": {},
     "output_type": "execute_result"
    }
   ],
   "source": [
    "# you can update the count by yourself \n",
    "\n",
    "# 0x01 - add counting (manually)\n",
    "more_words = ['crap','not','eyes'] # >> 2, 5 \n",
    "for w in more_words:\n",
    "    word_cnt[w] += 1              \n",
    "    \n",
    "# 0x02 - or using update directly \n",
    "word_cnt.update(more_words)        # >> 3, 6 -- add again! \n",
    "     \n",
    "\n",
    "word_cnt['not'], word_cnt['eyes']"
   ]
  },
  {
   "cell_type": "code",
   "execution_count": 6,
   "metadata": {},
   "outputs": [
    {
     "data": {
      "text/plain": [
       "Counter({'look': 1,\n",
       "         'eyes': 5,\n",
       "         'the': 3,\n",
       "         \"don't\": 1,\n",
       "         'under': 1,\n",
       "         'not': 2,\n",
       "         'around': 1,\n",
       "         'crap': 1})"
      ]
     },
     "execution_count": 6,
     "metadata": {},
     "output_type": "execute_result"
    },
    {
     "data": {
      "text/plain": [
       "Counter({'look': 1, 'eyes': 3, 'the': 3, \"don't\": 1, 'under': 1, 'around': 1})"
      ]
     },
     "execution_count": 6,
     "metadata": {},
     "output_type": "execute_result"
    },
    {
     "data": {
      "text/plain": [
       "Counter({'crap': 1})"
      ]
     },
     "execution_count": 6,
     "metadata": {},
     "output_type": "execute_result"
    },
    {
     "data": {
      "text/plain": [
       "Counter({'eyes': 1, 'not': 1})"
      ]
     },
     "execution_count": 6,
     "metadata": {},
     "output_type": "execute_result"
    }
   ],
   "source": [
    "word      = words       # above \n",
    "word_more = more_words  # above \n",
    "\n",
    "a = Counter(word)\n",
    "b = Counter(word_more)\n",
    "\n",
    "# arithmetic opt is supported!\n",
    "a + b \n",
    "a - b\n",
    "b - a\n",
    "a & b"
   ]
  },
  {
   "cell_type": "markdown",
   "metadata": {},
   "source": [
    "#### itemgetter - basis"
   ]
  },
  {
   "cell_type": "code",
   "execution_count": 7,
   "metadata": {},
   "outputs": [
    {
     "data": {
      "text/plain": [
       "1"
      ]
     },
     "execution_count": 7,
     "metadata": {},
     "output_type": "execute_result"
    },
    {
     "data": {
      "text/plain": [
       "(1, 4)"
      ]
     },
     "execution_count": 7,
     "metadata": {},
     "output_type": "execute_result"
    }
   ],
   "source": [
    "from operator import itemgetter\n",
    "\n",
    "# Kind of slicing (but better, for myself)\n",
    "func_pick_one  = itemgetter(0)\n",
    "func_pick_more = itemgetter(0,-1)\n",
    "\n",
    "func_pick_one(\n",
    "    [1,2,3,4]  # => 'f[0]'\n",
    ")\n",
    "\n",
    "func_pick_more(\n",
    "    [1,2,3,4]  # => 'f[0] and f[-1]'\n",
    ")"
   ]
  },
  {
   "cell_type": "markdown",
   "metadata": {},
   "source": [
    "#### itemgetter - sort dict by giving key"
   ]
  },
  {
   "cell_type": "code",
   "execution_count": 8,
   "metadata": {},
   "outputs": [],
   "source": [
    "rows = [\n",
    "    {'fname': 'Brian', 'uid': 1003},\n",
    "    {'fname': 'David', 'uid': 1004},\n",
    "    {'fname': 'John', 'uid': 1001},\n",
    "    {'fname': 'Big', 'uid': 1002}\n",
    "]"
   ]
  },
  {
   "cell_type": "code",
   "execution_count": 9,
   "metadata": {},
   "outputs": [
    {
     "data": {
      "text/plain": [
       "[{'fname': 'John', 'uid': 1001},\n",
       " {'fname': 'Big', 'uid': 1002},\n",
       " {'fname': 'Brian', 'uid': 1003},\n",
       " {'fname': 'David', 'uid': 1004}]"
      ]
     },
     "execution_count": 9,
     "metadata": {},
     "output_type": "execute_result"
    },
    {
     "data": {
      "text/plain": [
       "[{'fname': 'John', 'uid': 1001},\n",
       " {'fname': 'Big', 'uid': 1002},\n",
       " {'fname': 'Brian', 'uid': 1003},\n",
       " {'fname': 'David', 'uid': 1004}]"
      ]
     },
     "execution_count": 9,
     "metadata": {},
     "output_type": "execute_result"
    },
    {
     "data": {
      "text/plain": [
       "{'fname': 'John', 'uid': 1001}"
      ]
     },
     "execution_count": 9,
     "metadata": {},
     "output_type": "execute_result"
    },
    {
     "data": {
      "text/plain": [
       "{'fname': 'David', 'uid': 1004}"
      ]
     },
     "execution_count": 9,
     "metadata": {},
     "output_type": "execute_result"
    }
   ],
   "source": [
    "# 'idx' for list, tuple\n",
    "# 'key' for dict (only can used in 'sorted()')\n",
    "\n",
    "by_fname_itg = sorted(rows, key=itemgetter('uid'))  # faster than 'lambda'\n",
    "by_fname_itg\n",
    "\n",
    "by_fname_lmd = sorted(rows, key=lambda r: r['uid'])\n",
    "by_fname_lmd\n",
    "\n",
    "# also, there's max/min\n",
    "min(rows, key=itemgetter('uid'))\n",
    "max(rows, key=itemgetter('uid'))"
   ]
  },
  {
   "cell_type": "markdown",
   "metadata": {},
   "source": [
    "#### attrgetter - sort 'cannot be sorted'"
   ]
  },
  {
   "cell_type": "code",
   "execution_count": 10,
   "metadata": {},
   "outputs": [
    {
     "data": {
      "text/plain": [
       "[User(40), User(12), User(27)]"
      ]
     },
     "execution_count": 10,
     "metadata": {},
     "output_type": "execute_result"
    }
   ],
   "source": [
    "from operator import attrgetter\n",
    "\n",
    "class User:\n",
    "    def __init__(self, user_id,name='xxx'):\n",
    "        self.user_id = user_id \n",
    "        self.name    = name\n",
    "    \n",
    "    def __repr__(self):\n",
    "        return 'User({})'.format(self.user_id)\n",
    "    \n",
    "    \n",
    "users = [User(40), User(12), User(27)]\n",
    "users"
   ]
  },
  {
   "cell_type": "code",
   "execution_count": 11,
   "metadata": {},
   "outputs": [
    {
     "data": {
      "text/plain": [
       "[40, 12, 27]"
      ]
     },
     "execution_count": 11,
     "metadata": {},
     "output_type": "execute_result"
    },
    {
     "data": {
      "text/plain": [
       "[(40, 'xxx'), (12, 'xxx'), (27, 'xxx')]"
      ]
     },
     "execution_count": 11,
     "metadata": {},
     "output_type": "execute_result"
    }
   ],
   "source": [
    "# select multiple keys\n",
    "dict_pick_one  = attrgetter('user_id')\n",
    "dict_pick_more = attrgetter('user_id','name')\n",
    "\n",
    "[ dict_pick_one(i)  for i in users ]  # User(xx).user_id\n",
    "[ dict_pick_more(i) for i in users]   # User(xx).user_id, User(xx).name"
   ]
  },
  {
   "cell_type": "code",
   "execution_count": 12,
   "metadata": {},
   "outputs": [
    {
     "data": {
      "text/plain": [
       "[User(12), User(27), User(40)]"
      ]
     },
     "execution_count": 12,
     "metadata": {},
     "output_type": "execute_result"
    },
    {
     "data": {
      "text/plain": [
       "[User(12), User(27), User(40)]"
      ]
     },
     "execution_count": 12,
     "metadata": {},
     "output_type": "execute_result"
    },
    {
     "data": {
      "text/plain": [
       "User(12)"
      ]
     },
     "execution_count": 12,
     "metadata": {},
     "output_type": "execute_result"
    },
    {
     "data": {
      "text/plain": [
       "User(40)"
      ]
     },
     "execution_count": 12,
     "metadata": {},
     "output_type": "execute_result"
    }
   ],
   "source": [
    "sorted(\n",
    "    users,\n",
    "    key=attrgetter('user_id') # faster than 'lambda'\n",
    ")\n",
    "\n",
    "sorted(\n",
    "    users, \n",
    "    key=lambda u: u.user_id   # User - (self) - user_id\n",
    ")\n",
    "\n",
    "\n",
    "# max/min are supported \n",
    "\n",
    "min(\n",
    "    users,\n",
    "    key=attrgetter('user_id')\n",
    ")\n",
    "\n",
    "max(\n",
    "    users,\n",
    "    key=attrgetter('user_id')\n",
    ")"
   ]
  },
  {
   "cell_type": "markdown",
   "metadata": {},
   "source": [
    "#### group by a specific key"
   ]
  },
  {
   "cell_type": "code",
   "execution_count": 13,
   "metadata": {},
   "outputs": [],
   "source": [
    "from operator import itemgetter \n",
    "from itertools import groupby\n",
    "\n",
    "rows = [\n",
    "    {'addr': '5412 N CLARK', 'date': '07/01/2012'},\n",
    "    {'addr': '5148 N CLARK', 'date': '07/04/2012'},\n",
    "    {'addr': '2122 N CLARK', 'date': '07/03/2012'},\n",
    "    {'addr': '5645 N RAVEN', 'date': '07/02/2012'},\n",
    "    {'addr': '1060 W ADDIS', 'date': '07/02/2012'},\n",
    "    {'addr': '4801 N BROAD', 'date': '07/01/2012'},\n",
    "    {'addr': '1039 W GRANV', 'date': '07/04/2012'},\n",
    "]"
   ]
  },
  {
   "cell_type": "code",
   "execution_count": 14,
   "metadata": {},
   "outputs": [
    {
     "name": "stdout",
     "output_type": "stream",
     "text": [
      "07/01/2012\n",
      "    {'addr': '5412 N CLARK', 'date': '07/01/2012'}\n",
      "    {'addr': '4801 N BROAD', 'date': '07/01/2012'}\n",
      "07/02/2012\n",
      "    {'addr': '5645 N RAVEN', 'date': '07/02/2012'}\n",
      "    {'addr': '1060 W ADDIS', 'date': '07/02/2012'}\n",
      "07/03/2012\n",
      "    {'addr': '2122 N CLARK', 'date': '07/03/2012'}\n",
      "07/04/2012\n",
      "    {'addr': '5148 N CLARK', 'date': '07/04/2012'}\n",
      "    {'addr': '1039 W GRANV', 'date': '07/04/2012'}\n"
     ]
    }
   ],
   "source": [
    "# it must be sorted firstly\n",
    "rows.sort(key=itemgetter('date'))\n",
    "\n",
    "\n",
    "for date, items in groupby(rows, key=itemgetter('date')):\n",
    "    print(date)\n",
    "    \n",
    "    for i in items:\n",
    "        print(f'    {i}')"
   ]
  },
  {
   "cell_type": "code",
   "execution_count": 15,
   "metadata": {},
   "outputs": [
    {
     "data": {
      "text/plain": [
       "[{'addr': '5412 N CLARK', 'date': '07/01/2012'},\n",
       " {'addr': '4801 N BROAD', 'date': '07/01/2012'}]"
      ]
     },
     "execution_count": 15,
     "metadata": {},
     "output_type": "execute_result"
    },
    {
     "data": {
      "text/plain": [
       "[{'addr': '5645 N RAVEN', 'date': '07/02/2012'},\n",
       " {'addr': '1060 W ADDIS', 'date': '07/02/2012'}]"
      ]
     },
     "execution_count": 15,
     "metadata": {},
     "output_type": "execute_result"
    }
   ],
   "source": [
    "# or you wanna splitting it by grouping it\n",
    "\n",
    "from collections import defaultdict\n",
    "\n",
    "rows_by_date = defaultdict(list)\n",
    "\n",
    "for row in rows:  # rows at above\n",
    "    \n",
    "    rows_by_date[      # remember it's a dict (init by us)\n",
    "        row['date']    # use date ('07/0X/2012') as key \n",
    "    ].append(row)      # passing each dict       as value \n",
    "    \n",
    "    \n",
    "# access by date \n",
    "rows_by_date['07/01/2012']\n",
    "rows_by_date['07/02/2012']"
   ]
  },
  {
   "cell_type": "markdown",
   "metadata": {},
   "source": [
    "#### filter elements"
   ]
  },
  {
   "cell_type": "code",
   "execution_count": 37,
   "metadata": {},
   "outputs": [
    {
     "data": {
      "text/plain": [
       "[1, 4, 10, 2, 3]"
      ]
     },
     "execution_count": 37,
     "metadata": {},
     "output_type": "execute_result"
    },
    {
     "data": {
      "text/plain": [
       "[1, 16, 100, 4, 9]"
      ]
     },
     "execution_count": 37,
     "metadata": {},
     "output_type": "execute_result"
    },
    {
     "data": {
      "text/plain": [
       "[1, 4, 10, 2, 3]"
      ]
     },
     "execution_count": 37,
     "metadata": {},
     "output_type": "execute_result"
    }
   ],
   "source": [
    "nums = [1, 4, -5, 10, -7, 2, 3, -1]\n",
    "\n",
    "# list comprehension \n",
    "[ n    for n in nums if n >= 0 ]\n",
    "[ n**2 for n in nums if n >= 0 ]  \n",
    "\n",
    "# generator \n",
    "a = ( n for n in nums if n >= 0 )\n",
    "list(a)"
   ]
  },
  {
   "cell_type": "code",
   "execution_count": 36,
   "metadata": {},
   "outputs": [
    {
     "data": {
      "text/plain": [
       "['1', '2', '4', '5']"
      ]
     },
     "execution_count": 36,
     "metadata": {},
     "output_type": "execute_result"
    }
   ],
   "source": [
    "nums = ['1', '2', '-', '4', 'N/A', '5']\n",
    "\n",
    "# when things got complicated \n",
    "def is_int(n):\n",
    "    ''' is  int  => good \n",
    "        not num  => filtered out \n",
    "    '''\n",
    "    try:\n",
    "        x = int(n)\n",
    "        return True\n",
    "    except ValueError:\n",
    "        return False \n",
    "\n",
    "intnums = list(filter(is_int, nums))\n",
    "intnums"
   ]
  },
  {
   "cell_type": "code",
   "execution_count": 41,
   "metadata": {},
   "outputs": [
    {
     "data": {
      "text/plain": [
       "[False, False, True, False, False, True, True, False]"
      ]
     },
     "execution_count": 41,
     "metadata": {},
     "output_type": "execute_result"
    },
    {
     "data": {
      "text/plain": [
       "['5800 E 58TH', '1060 W ADDISON', '4801 N BROADWAY']"
      ]
     },
     "execution_count": 41,
     "metadata": {},
     "output_type": "execute_result"
    }
   ],
   "source": [
    "# and the other one \n",
    "\n",
    "import itertools \n",
    "\n",
    "addrs = [\n",
    "    '5412 N CLARK',\n",
    "    '5148 N CLARK',\n",
    "    '5800 E 58TH',\n",
    "    '2122 N CLARK',\n",
    "    '5645 N RAVENSWOOD',\n",
    "    '1060 W ADDISON',\n",
    "    '4801 N BROADWAY',\n",
    "    '1039 W GRANVILLE',\n",
    "]\n",
    "\n",
    "addrs_count = [ \n",
    "    0, 3, 10, 4, 1, 7, 6, 1\n",
    "]\n",
    "\n",
    "\n",
    "# suppose you wanna show \n",
    "#   the addr correspond to count which is larger than 5 \n",
    "larger_than_five = [ n > 5 for n in counts ]\n",
    "larger_than_five\n",
    "\n",
    "list(itertools.compress(\n",
    "    addrs,\n",
    "    larger_than_five\n",
    "))"
   ]
  },
  {
   "cell_type": "markdown",
   "metadata": {},
   "source": [
    "#### get sub-dict (by condition)"
   ]
  },
  {
   "cell_type": "code",
   "execution_count": 51,
   "metadata": {},
   "outputs": [
    {
     "data": {
      "text/plain": [
       "{'AAPL': 612.78, 'IBM': 205.55}"
      ]
     },
     "execution_count": 51,
     "metadata": {},
     "output_type": "execute_result"
    },
    {
     "data": {
      "text/plain": [
       "{'FB': 10.75}"
      ]
     },
     "execution_count": 51,
     "metadata": {},
     "output_type": "execute_result"
    },
    {
     "data": {
      "text/plain": [
       "{'AAPL': 612.78, 'IBM': 205.55}"
      ]
     },
     "execution_count": 51,
     "metadata": {},
     "output_type": "execute_result"
    },
    {
     "data": {
      "text/plain": [
       "{'FB': 10.75}"
      ]
     },
     "execution_count": 51,
     "metadata": {},
     "output_type": "execute_result"
    }
   ],
   "source": [
    "prices = {\n",
    "    'ACME': 45.23,\n",
    "    'AAPL': 612.78,\n",
    "    'IBM': 205.55,\n",
    "    'HPQ': 37.20,\n",
    "    'FB': 10.75\n",
    "}\n",
    "\n",
    "\n",
    "# dict comprehension!\n",
    "#   faster than any of the examples down below\n",
    "{key: val for key, val in prices.items() if val > 200}\n",
    "{key: val for key, val in prices.items() if key in {'FB', 'MSFT'}}\n",
    "\n",
    "\n",
    "# or \"dict(a_tuple)\"\n",
    "dict(\n",
    "    (key, val) for key, val in prices.items() if val > 200\n",
    ")\n",
    "\n",
    "# and another one \n",
    "{ key:prices[key] for key in prices.keys() & {'FB', 'MSFT'} }"
   ]
  },
  {
   "cell_type": "markdown",
   "metadata": {},
   "source": [
    "#### here comes the *namedtuple()*"
   ]
  },
  {
   "cell_type": "code",
   "execution_count": 63,
   "metadata": {},
   "outputs": [
    {
     "data": {
      "text/plain": [
       "Uploader(name='Ubisoft_US', founded='1986-03-12')"
      ]
     },
     "execution_count": 63,
     "metadata": {},
     "output_type": "execute_result"
    },
    {
     "data": {
      "text/plain": [
       "('Ubisoft_US', '1986-03-12')"
      ]
     },
     "execution_count": 63,
     "metadata": {},
     "output_type": "execute_result"
    },
    {
     "data": {
      "text/plain": [
       "('Ubisoft_US', '1986-03-12')"
      ]
     },
     "execution_count": 63,
     "metadata": {},
     "output_type": "execute_result"
    }
   ],
   "source": [
    "from collections import namedtuple\n",
    "\n",
    "\n",
    "Uploader = namedtuple('Uploader', ['name', 'founded'])\n",
    "\n",
    "up = Uploader('Ubisoft_US', '1986-03-12')\n",
    "\n",
    "up\n",
    "up.name, up.founded         # behaves like a class\n",
    "\n",
    "up2_name, up2_founded = up  # u CAN unpack it (support all tuple opts)\n",
    "up2_name, up2_founded"
   ]
  },
  {
   "cell_type": "code",
   "execution_count": 74,
   "metadata": {},
   "outputs": [
    {
     "data": {
      "text/plain": [
       "Uploader(name='EA', founded='1986-03-12')"
      ]
     },
     "execution_count": 74,
     "metadata": {},
     "output_type": "execute_result"
    },
    {
     "data": {
      "text/plain": [
       "OrderedDict([('name', 'Ubisoft_US'), ('founded', '1986-03-12')])"
      ]
     },
     "execution_count": 74,
     "metadata": {},
     "output_type": "execute_result"
    }
   ],
   "source": [
    "up._replace(name='EA')  # not changing the original\n",
    "up._asdict()"
   ]
  },
  {
   "cell_type": "markdown",
   "metadata": {},
   "source": [
    "#### calc while convert"
   ]
  },
  {
   "cell_type": "code",
   "execution_count": 84,
   "metadata": {},
   "outputs": [
    {
     "data": {
      "text/plain": [
       "56"
      ]
     },
     "execution_count": 84,
     "metadata": {},
     "output_type": "execute_result"
    },
    {
     "data": {
      "text/plain": [
       "56"
      ]
     },
     "execution_count": 84,
     "metadata": {},
     "output_type": "execute_result"
    },
    {
     "data": {
      "text/plain": [
       "'1,2,3'"
      ]
     },
     "execution_count": 84,
     "metadata": {},
     "output_type": "execute_result"
    },
    {
     "data": {
      "text/plain": [
       "20"
      ]
     },
     "execution_count": 84,
     "metadata": {},
     "output_type": "execute_result"
    }
   ],
   "source": [
    "# generators!\n",
    "\n",
    "nums = [2, 4, 6]\n",
    "\n",
    "# calc sum\n",
    "sum( x * x for x in nums )\n",
    "sum((x * x for x in nums))\n",
    "\n",
    "# join str \n",
    "','.join(str(x) for x in [1, 2, 3])\n",
    "\n",
    "# list file \n",
    "import os\n",
    "if any(name.endswith('.ipynb') for name in os.listdir('.')):\n",
    "    pass\n",
    "\n",
    "# get min\n",
    "profile = [\n",
    "    {'name':'Bob', 'age': 50},\n",
    "    {'name':'Fac', 'age': 75},\n",
    "    {'name':'Ali', 'age': 20},\n",
    "    {'name':'Zen', 'age': 65}\n",
    "]\n",
    "min(s['age'] for s in profile)"
   ]
  },
  {
   "cell_type": "markdown",
   "metadata": {},
   "source": [
    "#### *ChainMap*! (the end)"
   ]
  },
  {
   "cell_type": "code",
   "execution_count": 103,
   "metadata": {},
   "outputs": [
    {
     "data": {
      "text/plain": [
       "ChainMap({'x': 1, 'z': 3}, {'y': 2, 'z': 4})"
      ]
     },
     "execution_count": 103,
     "metadata": {},
     "output_type": "execute_result"
    },
    {
     "data": {
      "text/plain": [
       "KeysView(ChainMap({'x': 1, 'z': 3}, {'y': 2, 'z': 4}))"
      ]
     },
     "execution_count": 103,
     "metadata": {},
     "output_type": "execute_result"
    },
    {
     "data": {
      "text/plain": [
       "ItemsView(ChainMap({'x': 1, 'z': 3}, {'y': 2, 'z': 4}))"
      ]
     },
     "execution_count": 103,
     "metadata": {},
     "output_type": "execute_result"
    },
    {
     "name": "stdout",
     "output_type": "stream",
     "text": [
      "\n"
     ]
    },
    {
     "data": {
      "text/plain": [
       "3"
      ]
     },
     "execution_count": 103,
     "metadata": {},
     "output_type": "execute_result"
    },
    {
     "data": {
      "text/plain": [
       "'Nope'"
      ]
     },
     "execution_count": 103,
     "metadata": {},
     "output_type": "execute_result"
    }
   ],
   "source": [
    "from collections import ChainMap \n",
    "\n",
    "a = {'x': 1, 'z': 3}\n",
    "b = {'y': 2, 'z': 4}\n",
    "\n",
    "# combined as One-Dict (logically!!)\n",
    "c = ChainMap(a, b)\n",
    "\n",
    "# normal opts\n",
    "c\n",
    "c.keys()\n",
    "c.items(); print()\n",
    "\n",
    "# repeat? only show the first appeared\n",
    "c['z']\n",
    "\n",
    "# and only do modifications on the first dict (change/del)\n",
    "c['z'] = 'Nope'  # or del it\n",
    "c['z'] "
   ]
  }
 ],
 "metadata": {
  "kernelspec": {
   "display_name": "Python 3",
   "language": "python",
   "name": "python3"
  },
  "language_info": {
   "codemirror_mode": {
    "name": "ipython",
    "version": 3
   },
   "file_extension": ".py",
   "mimetype": "text/x-python",
   "name": "python",
   "nbconvert_exporter": "python",
   "pygments_lexer": "ipython3",
   "version": "3.6.5"
  }
 },
 "nbformat": 4,
 "nbformat_minor": 2
}
